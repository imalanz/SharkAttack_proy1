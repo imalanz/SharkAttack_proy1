{
 "cells": [
  {
   "cell_type": "code",
   "execution_count": 27,
   "id": "a0cf29f6",
   "metadata": {},
   "outputs": [],
   "source": [
    "import re"
   ]
  },
  {
   "cell_type": "code",
   "execution_count": 87,
   "id": "93465642",
   "metadata": {},
   "outputs": [],
   "source": [
    "values = [\"Jun\", \"Mar\", \"Apr\", \"jul\", \"Aug\", \"Jan\", \"kkmdadsf Jan\", \"ojsdnk Apr\"]"
   ]
  },
  {
   "cell_type": "code",
   "execution_count": 93,
   "id": "d1017fa7",
   "metadata": {},
   "outputs": [
    {
     "data": {
      "text/plain": [
       "['Apr', 'Jan']"
      ]
     },
     "execution_count": 93,
     "metadata": {},
     "output_type": "execute_result"
    }
   ],
   "source": [
    "\n",
    "months = [\"Jan\", \"Apr\"] \n",
    "x = []\n",
    "for i in values:\n",
    "    if i in months:\n",
    "        x.append(i)\n",
    "x"
   ]
  },
  {
   "cell_type": "code",
   "execution_count": null,
   "id": "137da6e4",
   "metadata": {},
   "outputs": [],
   "source": [
    "def limpia_num(x):\n",
    "    months = \"Jan Feb Mar Oct Sep Apr May Jun Jul Aug Nov Dec\" \n",
    "    x = str(x)\n",
    "    for i in x:\n",
    "        if i in months:\n",
    "            return i\n",
    "        else:\n",
    "            return \"\""
   ]
  },
  {
   "cell_type": "code",
   "execution_count": 54,
   "id": "0384910c",
   "metadata": {
    "scrolled": true
   },
   "outputs": [
    {
     "name": "stdout",
     "output_type": "stream",
     "text": [
      "None\n"
     ]
    }
   ],
   "source": [
    "\n",
    "x = \"-\"\n",
    "num = \"1234567890\"\n",
    "for i in listaa:\n",
    "    if i.isdigit():\n",
    "         print (listaa.remove(i))\n"
   ]
  },
  {
   "cell_type": "code",
   "execution_count": 55,
   "id": "e6678f57",
   "metadata": {},
   "outputs": [
    {
     "name": "stdout",
     "output_type": "stream",
     "text": [
      "<function limpia_meses at 0x000001BF4379D630>\n"
     ]
    }
   ],
   "source": [
    "print (limpia_meses)"
   ]
  },
  {
   "cell_type": "code",
   "execution_count": 56,
   "id": "3eb16230",
   "metadata": {},
   "outputs": [],
   "source": [
    "def limpia(x):\n",
    "    no_digits = [\"Jan\"]\n",
    "    for i in x:\n",
    "        for e in i:\n",
    "            if not e.isdigit():\n",
    "                return no_digits.append(e)\n"
   ]
  },
  {
   "cell_type": "code",
   "execution_count": 57,
   "id": "4d809479",
   "metadata": {},
   "outputs": [
    {
     "name": "stdout",
     "output_type": "stream",
     "text": [
      "None\n"
     ]
    }
   ],
   "source": [
    "print (limpia(values))"
   ]
  },
  {
   "cell_type": "code",
   "execution_count": 58,
   "id": "09c134a9",
   "metadata": {},
   "outputs": [],
   "source": [
    "def limpia(x):\n",
    "    reg = r\"[\\d]\"\n",
    "    no_digits = []\n",
    "    for i in x:\n",
    "        return i.replace(reg, \"\")\n",
    "            "
   ]
  },
  {
   "cell_type": "code",
   "execution_count": 59,
   "id": "8d5a8f40",
   "metadata": {},
   "outputs": [
    {
     "name": "stdout",
     "output_type": "stream",
     "text": [
      "-\n"
     ]
    }
   ],
   "source": [
    "print (limpia(x))"
   ]
  },
  {
   "cell_type": "code",
   "execution_count": 67,
   "id": "266237ea",
   "metadata": {},
   "outputs": [],
   "source": [
    "def limpia_num(values):\n",
    "    months = \"Jan\" \n",
    "    x = []\n",
    "    for i in range(len(values)):\n",
    "        if i != months:\n",
    "            return x.append(i)"
   ]
  },
  {
   "cell_type": "code",
   "execution_count": 68,
   "id": "24b5c687",
   "metadata": {},
   "outputs": [
    {
     "name": "stdout",
     "output_type": "stream",
     "text": [
      "None\n"
     ]
    }
   ],
   "source": [
    "print (limpia_num(values))"
   ]
  },
  {
   "cell_type": "code",
   "execution_count": 36,
   "id": "ce64749f",
   "metadata": {},
   "outputs": [
    {
     "name": "stdout",
     "output_type": "stream",
     "text": [
      "Y\n"
     ]
    }
   ],
   "source": [
    "\n",
    "f = 'ATCTGTCGTYCACGT'\n",
    "for i in f:                                                                                                                        \n",
    "    if i != 'A' and i != 'C' and i != 'G' and i != 'T':                                                                             \n",
    "        print(i)"
   ]
  },
  {
   "cell_type": "code",
   "execution_count": null,
   "id": "4d3c20fe",
   "metadata": {},
   "outputs": [],
   "source": []
  }
 ],
 "metadata": {
  "kernelspec": {
   "display_name": "ironhack",
   "language": "python",
   "name": "ironhack"
  },
  "language_info": {
   "codemirror_mode": {
    "name": "ipython",
    "version": 3
   },
   "file_extension": ".py",
   "mimetype": "text/x-python",
   "name": "python",
   "nbconvert_exporter": "python",
   "pygments_lexer": "ipython3",
   "version": "3.10.8"
  }
 },
 "nbformat": 4,
 "nbformat_minor": 5
}
