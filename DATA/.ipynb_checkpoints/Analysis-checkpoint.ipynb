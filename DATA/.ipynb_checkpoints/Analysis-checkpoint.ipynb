{
 "cells": [
  {
   "cell_type": "markdown",
   "id": "ccfcef80",
   "metadata": {},
   "source": [
    "### 1. if the season of empareamiento has something to do with the same time of the shark attacks."
   ]
  },
  {
   "cell_type": "markdown",
   "id": "f8e3985d",
   "metadata": {},
   "source": [
    "### Is there some reason why the sharks go closer to the shores in some specific season or reason or ....."
   ]
  },
  {
   "cell_type": "code",
   "execution_count": null,
   "id": "cbb99ac3",
   "metadata": {},
   "outputs": [],
   "source": []
  }
 ],
 "metadata": {
  "kernelspec": {
   "display_name": "ironhack",
   "language": "python",
   "name": "ironhack"
  },
  "language_info": {
   "codemirror_mode": {
    "name": "ipython",
    "version": 3
   },
   "file_extension": ".py",
   "mimetype": "text/x-python",
   "name": "python",
   "nbconvert_exporter": "python",
   "pygments_lexer": "ipython3",
   "version": "3.10.8"
  }
 },
 "nbformat": 4,
 "nbformat_minor": 5
}
