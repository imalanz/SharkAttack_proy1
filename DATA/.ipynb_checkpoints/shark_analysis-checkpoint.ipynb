{
 "cells": [
  {
   "cell_type": "markdown",
   "id": "ccfcef80",
   "metadata": {},
   "source": [
    "### 1. if the season of empareamiento has something to do with the same time of the shark attacks."
   ]
  },
  {
   "cell_type": "markdown",
   "id": "f8e3985d",
   "metadata": {},
   "source": [
    "### Is there some reason why the sharks go closer to the shores in some specific season or reason or ....."
   ]
  },
  {
   "cell_type": "markdown",
   "id": "b9cf86f3",
   "metadata": {},
   "source": [
    "### Is there an specific time that sharks likes to go close to the shore?"
   ]
  },
  {
   "cell_type": "markdown",
   "id": "d85ea70a",
   "metadata": {},
   "source": [
    "### where does the most fatal accidents occure"
   ]
  },
  {
   "cell_type": "markdown",
   "id": "3a671f1e",
   "metadata": {},
   "source": [
    "# 1. Hypotesis ganadora: \n",
    "## Does sharks attack more because they are horny? \n",
    "### Que necesito de informacion para esta hypotesis?????"
   ]
  },
  {
   "cell_type": "markdown",
   "id": "f062c53c",
   "metadata": {},
   "source": [
    "#### datos de la tabla para  limpiar    \n",
    "    1. Necesito los tiempos, las fechas en que ocurrio el ataque \n",
    "    2. La especie de sharks.\n",
    "    3. el estado del ataque, si fue fatal o no (posiblemente mientras mas fuerte el ataque, mas caliente)"
   ]
  },
  {
   "cell_type": "markdown",
   "id": "dd8c353e",
   "metadata": {},
   "source": [
    "#### Tipo de analisis\n",
    "    1. relacionar el tipo de especie con las fechas del ataque - a ver si hay una corelacion, similitudes de mismas especies con el tiempo del ataque\n",
    "    2.relacionar si coinciden tambien los ataques mas mortales con las fechas del ataque."
   ]
  },
  {
   "cell_type": "markdown",
   "id": "0364e99a",
   "metadata": {},
   "source": [
    "#### Investigar por fuera:\n",
    "    1. cuales son las temporadas de mating de los difierentes tipos de sharks pueestos en el df\n",
    "    2. podemos investigar si hay alguna relacion del clima que prefieren los tiburones para el tiempo de apareamiento.\n",
    "    3. investigar junto con el DF el clima de los lugares al momento del ataque."
   ]
  },
  {
   "cell_type": "markdown",
   "id": "560d7874",
   "metadata": {},
   "source": [
    "como limpiar las celdas cuando no son ... "
   ]
  },
  {
   "cell_type": "code",
   "execution_count": 1,
   "id": "d22b8b02",
   "metadata": {},
   "outputs": [],
   "source": [
    "import pandas as pd\n",
    "import numpy as np\n",
    "import openpyxl\n",
    "import re\n",
    "import matplotlib.pyplot as plt\n",
    "import seaborn as sns"
   ]
  },
  {
   "cell_type": "code",
   "execution_count": 2,
   "id": "92e27037",
   "metadata": {},
   "outputs": [],
   "source": [
    "csv_file = \"D:\\\\ironhack\\\\proyectos\\\\SharkAttack_proy1\\DATA\\\\clean_attack.csv\"\n",
    "shark_clean = pd.read_csv(csv_file, encoding='utf8')"
   ]
  },
  {
   "cell_type": "code",
   "execution_count": 3,
   "id": "23157595",
   "metadata": {
    "scrolled": true
   },
   "outputs": [
    {
     "data": {
      "text/html": [
       "<div>\n",
       "<style scoped>\n",
       "    .dataframe tbody tr th:only-of-type {\n",
       "        vertical-align: middle;\n",
       "    }\n",
       "\n",
       "    .dataframe tbody tr th {\n",
       "        vertical-align: top;\n",
       "    }\n",
       "\n",
       "    .dataframe thead th {\n",
       "        text-align: right;\n",
       "    }\n",
       "</style>\n",
       "<table border=\"1\" class=\"dataframe\">\n",
       "  <thead>\n",
       "    <tr style=\"text-align: right;\">\n",
       "      <th></th>\n",
       "      <th>Unnamed: 0</th>\n",
       "      <th>Year</th>\n",
       "      <th>Type</th>\n",
       "      <th>Country</th>\n",
       "      <th>Area</th>\n",
       "      <th>Location</th>\n",
       "      <th>Activity</th>\n",
       "      <th>Name</th>\n",
       "      <th>Sex_</th>\n",
       "      <th>Age</th>\n",
       "      <th>Injury</th>\n",
       "      <th>Fatal_(y/n)</th>\n",
       "      <th>Time</th>\n",
       "      <th>Months</th>\n",
       "      <th>Species</th>\n",
       "    </tr>\n",
       "  </thead>\n",
       "  <tbody>\n",
       "    <tr>\n",
       "      <th>0</th>\n",
       "      <td>0</td>\n",
       "      <td>2018.0</td>\n",
       "      <td>Boating</td>\n",
       "      <td>USA</td>\n",
       "      <td>California</td>\n",
       "      <td>Oceanside, San Diego County</td>\n",
       "      <td>Paddling</td>\n",
       "      <td>Julie Wolfe</td>\n",
       "      <td>F</td>\n",
       "      <td>57</td>\n",
       "      <td>No injury to occupant, outrigger canoe and pad...</td>\n",
       "      <td>N</td>\n",
       "      <td>18h00</td>\n",
       "      <td>Jun</td>\n",
       "      <td>whiteshark</td>\n",
       "    </tr>\n",
       "    <tr>\n",
       "      <th>1</th>\n",
       "      <td>1</td>\n",
       "      <td>2018.0</td>\n",
       "      <td>Unprovoked</td>\n",
       "      <td>USA</td>\n",
       "      <td>Georgia</td>\n",
       "      <td>St. Simon Island, Glynn County</td>\n",
       "      <td>Standing</td>\n",
       "      <td>Adyson McNeely</td>\n",
       "      <td>F</td>\n",
       "      <td>11</td>\n",
       "      <td>Minor injury to left thigh</td>\n",
       "      <td>N</td>\n",
       "      <td>14h00  -15h00</td>\n",
       "      <td>Jun</td>\n",
       "      <td>NaN</td>\n",
       "    </tr>\n",
       "    <tr>\n",
       "      <th>2</th>\n",
       "      <td>2</td>\n",
       "      <td>2018.0</td>\n",
       "      <td>Invalid</td>\n",
       "      <td>USA</td>\n",
       "      <td>Hawaii</td>\n",
       "      <td>Habush, Oahu</td>\n",
       "      <td>Surfing</td>\n",
       "      <td>John Denges</td>\n",
       "      <td>M</td>\n",
       "      <td>48</td>\n",
       "      <td>Injury to left lower leg from surfboard skeg</td>\n",
       "      <td>N</td>\n",
       "      <td>07h45</td>\n",
       "      <td>Jun</td>\n",
       "      <td>NaN</td>\n",
       "    </tr>\n",
       "    <tr>\n",
       "      <th>3</th>\n",
       "      <td>3</td>\n",
       "      <td>2018.0</td>\n",
       "      <td>Unprovoked</td>\n",
       "      <td>AUSTRALIA</td>\n",
       "      <td>New South Wales</td>\n",
       "      <td>Arrawarra Headland</td>\n",
       "      <td>Surfing</td>\n",
       "      <td>male</td>\n",
       "      <td>M</td>\n",
       "      <td>NaN</td>\n",
       "      <td>Minor injury to lower leg</td>\n",
       "      <td>N</td>\n",
       "      <td>NaN</td>\n",
       "      <td>Jun</td>\n",
       "      <td>NaN</td>\n",
       "    </tr>\n",
       "    <tr>\n",
       "      <th>4</th>\n",
       "      <td>4</td>\n",
       "      <td>2018.0</td>\n",
       "      <td>Provoked</td>\n",
       "      <td>MEXICO</td>\n",
       "      <td>Colima</td>\n",
       "      <td>La Ticla</td>\n",
       "      <td>Free diving</td>\n",
       "      <td>Gustavo Ramos</td>\n",
       "      <td>M</td>\n",
       "      <td>NaN</td>\n",
       "      <td>Lacerations to leg &amp; hand shark PROVOKED INCIDENT</td>\n",
       "      <td>N</td>\n",
       "      <td>NaN</td>\n",
       "      <td>Jun</td>\n",
       "      <td>tigershark</td>\n",
       "    </tr>\n",
       "    <tr>\n",
       "      <th>...</th>\n",
       "      <td>...</td>\n",
       "      <td>...</td>\n",
       "      <td>...</td>\n",
       "      <td>...</td>\n",
       "      <td>...</td>\n",
       "      <td>...</td>\n",
       "      <td>...</td>\n",
       "      <td>...</td>\n",
       "      <td>...</td>\n",
       "      <td>...</td>\n",
       "      <td>...</td>\n",
       "      <td>...</td>\n",
       "      <td>...</td>\n",
       "      <td>...</td>\n",
       "      <td>...</td>\n",
       "    </tr>\n",
       "    <tr>\n",
       "      <th>6297</th>\n",
       "      <td>6297</td>\n",
       "      <td>0.0</td>\n",
       "      <td>Unprovoked</td>\n",
       "      <td>AUSTRALIA</td>\n",
       "      <td>Western Australia</td>\n",
       "      <td>Roebuck Bay</td>\n",
       "      <td>Diving</td>\n",
       "      <td>male</td>\n",
       "      <td>M</td>\n",
       "      <td>NaN</td>\n",
       "      <td>FATAL</td>\n",
       "      <td>Y</td>\n",
       "      <td>NaN</td>\n",
       "      <td>NaN</td>\n",
       "      <td>NaN</td>\n",
       "    </tr>\n",
       "    <tr>\n",
       "      <th>6298</th>\n",
       "      <td>6298</td>\n",
       "      <td>0.0</td>\n",
       "      <td>Unprovoked</td>\n",
       "      <td>AUSTRALIA</td>\n",
       "      <td>Western Australia</td>\n",
       "      <td>NaN</td>\n",
       "      <td>Pearl diving</td>\n",
       "      <td>Ahmun</td>\n",
       "      <td>M</td>\n",
       "      <td>NaN</td>\n",
       "      <td>FATAL</td>\n",
       "      <td>Y</td>\n",
       "      <td>NaN</td>\n",
       "      <td>NaN</td>\n",
       "      <td>NaN</td>\n",
       "    </tr>\n",
       "    <tr>\n",
       "      <th>6299</th>\n",
       "      <td>6299</td>\n",
       "      <td>0.0</td>\n",
       "      <td>Unprovoked</td>\n",
       "      <td>USA</td>\n",
       "      <td>North Carolina</td>\n",
       "      <td>Ocracoke Inlet</td>\n",
       "      <td>Swimming</td>\n",
       "      <td>Coast Guard personnel</td>\n",
       "      <td>M</td>\n",
       "      <td>NaN</td>\n",
       "      <td>FATAL</td>\n",
       "      <td>Y</td>\n",
       "      <td>NaN</td>\n",
       "      <td>NaN</td>\n",
       "      <td>NaN</td>\n",
       "    </tr>\n",
       "    <tr>\n",
       "      <th>6300</th>\n",
       "      <td>6300</td>\n",
       "      <td>0.0</td>\n",
       "      <td>Unprovoked</td>\n",
       "      <td>PANAMA</td>\n",
       "      <td>NaN</td>\n",
       "      <td>Panama Bay 8ºN, 79ºW</td>\n",
       "      <td>NaN</td>\n",
       "      <td>Jules Patterson</td>\n",
       "      <td>M</td>\n",
       "      <td>NaN</td>\n",
       "      <td>FATAL</td>\n",
       "      <td>Y</td>\n",
       "      <td>NaN</td>\n",
       "      <td>NaN</td>\n",
       "      <td>NaN</td>\n",
       "    </tr>\n",
       "    <tr>\n",
       "      <th>6301</th>\n",
       "      <td>6301</td>\n",
       "      <td>0.0</td>\n",
       "      <td>Unprovoked</td>\n",
       "      <td>CEYLON (SRI LANKA)</td>\n",
       "      <td>Eastern Province</td>\n",
       "      <td>Below the English fort, Trincomalee</td>\n",
       "      <td>Swimming</td>\n",
       "      <td>male</td>\n",
       "      <td>M</td>\n",
       "      <td>15</td>\n",
       "      <td>FATAL. \"Shark bit him in half, carrying away t...</td>\n",
       "      <td>Y</td>\n",
       "      <td>NaN</td>\n",
       "      <td>NaN</td>\n",
       "      <td>NaN</td>\n",
       "    </tr>\n",
       "  </tbody>\n",
       "</table>\n",
       "<p>6302 rows × 15 columns</p>\n",
       "</div>"
      ],
      "text/plain": [
       "      Unnamed: 0    Year        Type             Country               Area  \\\n",
       "0              0  2018.0     Boating                 USA         California   \n",
       "1              1  2018.0  Unprovoked                 USA            Georgia   \n",
       "2              2  2018.0     Invalid                 USA             Hawaii   \n",
       "3              3  2018.0  Unprovoked           AUSTRALIA    New South Wales   \n",
       "4              4  2018.0    Provoked              MEXICO             Colima   \n",
       "...          ...     ...         ...                 ...                ...   \n",
       "6297        6297     0.0  Unprovoked           AUSTRALIA  Western Australia   \n",
       "6298        6298     0.0  Unprovoked           AUSTRALIA  Western Australia   \n",
       "6299        6299     0.0  Unprovoked                 USA     North Carolina   \n",
       "6300        6300     0.0  Unprovoked              PANAMA                NaN   \n",
       "6301        6301     0.0  Unprovoked  CEYLON (SRI LANKA)   Eastern Province   \n",
       "\n",
       "                                 Location      Activity  \\\n",
       "0             Oceanside, San Diego County      Paddling   \n",
       "1          St. Simon Island, Glynn County      Standing   \n",
       "2                            Habush, Oahu       Surfing   \n",
       "3                      Arrawarra Headland       Surfing   \n",
       "4                                La Ticla   Free diving   \n",
       "...                                   ...           ...   \n",
       "6297                          Roebuck Bay        Diving   \n",
       "6298                                  NaN  Pearl diving   \n",
       "6299                       Ocracoke Inlet      Swimming   \n",
       "6300                 Panama Bay 8ºN, 79ºW           NaN   \n",
       "6301  Below the English fort, Trincomalee      Swimming   \n",
       "\n",
       "                       Name Sex_  Age  \\\n",
       "0               Julie Wolfe    F   57   \n",
       "1           Adyson McNeely     F   11   \n",
       "2               John Denges    M   48   \n",
       "3                      male    M  NaN   \n",
       "4            Gustavo Ramos     M  NaN   \n",
       "...                     ...  ...  ...   \n",
       "6297                   male    M  NaN   \n",
       "6298                  Ahmun    M  NaN   \n",
       "6299  Coast Guard personnel    M  NaN   \n",
       "6300        Jules Patterson    M  NaN   \n",
       "6301                   male    M   15   \n",
       "\n",
       "                                                 Injury Fatal_(y/n)  \\\n",
       "0     No injury to occupant, outrigger canoe and pad...           N   \n",
       "1                            Minor injury to left thigh           N   \n",
       "2          Injury to left lower leg from surfboard skeg           N   \n",
       "3                             Minor injury to lower leg           N   \n",
       "4     Lacerations to leg & hand shark PROVOKED INCIDENT           N   \n",
       "...                                                 ...         ...   \n",
       "6297                                              FATAL           Y   \n",
       "6298                                              FATAL           Y   \n",
       "6299                                              FATAL           Y   \n",
       "6300                                              FATAL           Y   \n",
       "6301  FATAL. \"Shark bit him in half, carrying away t...           Y   \n",
       "\n",
       "               Time Months     Species  \n",
       "0             18h00    Jun  whiteshark  \n",
       "1     14h00  -15h00    Jun         NaN  \n",
       "2             07h45    Jun         NaN  \n",
       "3               NaN    Jun         NaN  \n",
       "4               NaN    Jun  tigershark  \n",
       "...             ...    ...         ...  \n",
       "6297            NaN    NaN         NaN  \n",
       "6298            NaN    NaN         NaN  \n",
       "6299            NaN    NaN         NaN  \n",
       "6300            NaN    NaN         NaN  \n",
       "6301            NaN    NaN         NaN  \n",
       "\n",
       "[6302 rows x 15 columns]"
      ]
     },
     "execution_count": 3,
     "metadata": {},
     "output_type": "execute_result"
    }
   ],
   "source": [
    "shark_clean"
   ]
  },
  {
   "cell_type": "code",
   "execution_count": 64,
   "id": "fed6b59a",
   "metadata": {},
   "outputs": [],
   "source": [
    "csv_file = \"D:\\\\ironhack\\\\proyectos\\\\SharkAttack_proy1\\DATA\\\\clean_attack2.csv\"\n",
    "shark_cleanned = pd.read_csv(csv_file, encoding='utf8')"
   ]
  },
  {
   "cell_type": "code",
   "execution_count": 65,
   "id": "963c4083",
   "metadata": {},
   "outputs": [
    {
     "data": {
      "text/html": [
       "<div>\n",
       "<style scoped>\n",
       "    .dataframe tbody tr th:only-of-type {\n",
       "        vertical-align: middle;\n",
       "    }\n",
       "\n",
       "    .dataframe tbody tr th {\n",
       "        vertical-align: top;\n",
       "    }\n",
       "\n",
       "    .dataframe thead th {\n",
       "        text-align: right;\n",
       "    }\n",
       "</style>\n",
       "<table border=\"1\" class=\"dataframe\">\n",
       "  <thead>\n",
       "    <tr style=\"text-align: right;\">\n",
       "      <th></th>\n",
       "      <th>Unnamed: 0</th>\n",
       "      <th>Year</th>\n",
       "      <th>Type</th>\n",
       "      <th>Country</th>\n",
       "      <th>Area</th>\n",
       "      <th>Location</th>\n",
       "      <th>Activity</th>\n",
       "      <th>Name</th>\n",
       "      <th>Sex_</th>\n",
       "      <th>Age</th>\n",
       "      <th>Injury</th>\n",
       "      <th>Fatal_(y/n)</th>\n",
       "      <th>Time</th>\n",
       "      <th>Months</th>\n",
       "      <th>Species</th>\n",
       "    </tr>\n",
       "  </thead>\n",
       "  <tbody>\n",
       "    <tr>\n",
       "      <th>4755</th>\n",
       "      <td>4755</td>\n",
       "      <td>1941.0</td>\n",
       "      <td>Unprovoked</td>\n",
       "      <td>IRAN</td>\n",
       "      <td>Khuzestan Province</td>\n",
       "      <td>Ahvaz, on the Karun River</td>\n",
       "      <td>Slipped off rocks and fell into the water</td>\n",
       "      <td>boy</td>\n",
       "      <td>M</td>\n",
       "      <td>6</td>\n",
       "      <td>FATAL, both arms bitten</td>\n",
       "      <td>Y</td>\n",
       "      <td>NaN</td>\n",
       "      <td>NaN</td>\n",
       "      <td>NaN</td>\n",
       "    </tr>\n",
       "  </tbody>\n",
       "</table>\n",
       "</div>"
      ],
      "text/plain": [
       "      Unnamed: 0    Year        Type Country                Area  \\\n",
       "4755        4755  1941.0  Unprovoked    IRAN  Khuzestan Province   \n",
       "\n",
       "                       Location                                   Activity  \\\n",
       "4755  Ahvaz, on the Karun River  Slipped off rocks and fell into the water   \n",
       "\n",
       "     Name Sex_ Age                    Injury Fatal_(y/n) Time Months Species  \n",
       "4755  boy    M   6  FATAL, both arms bitten            Y  NaN    NaN     NaN  "
      ]
     },
     "execution_count": 65,
     "metadata": {},
     "output_type": "execute_result"
    }
   ],
   "source": [
    "shark_cleanned.sample()"
   ]
  },
  {
   "cell_type": "markdown",
   "id": "00012aef",
   "metadata": {},
   "source": [
    "Detecting information co related between the attacks of each species during specific time."
   ]
  },
  {
   "cell_type": "markdown",
   "id": "19566232",
   "metadata": {},
   "source": []
  },
  {
   "cell_type": "markdown",
   "id": "cdcaf5ae",
   "metadata": {},
   "source": [
    "For a better comprenhantion I would create a new column matching each month of the year with their order number, that way I could sort it in future time."
   ]
  },
  {
   "cell_type": "markdown",
   "id": "7c876dec",
   "metadata": {},
   "source": [
    "will create a copy of my data frame to dont lose any information and will apply a dropna."
   ]
  },
  {
   "cell_type": "code",
   "execution_count": 66,
   "id": "0b2cda0a",
   "metadata": {},
   "outputs": [],
   "source": [
    "shark_cleanned_2 = shark_cleanned.copy()"
   ]
  },
  {
   "cell_type": "code",
   "execution_count": 67,
   "id": "ee681ab1",
   "metadata": {},
   "outputs": [],
   "source": [
    "shark_cleanned_2.dropna(inplace=True)"
   ]
  },
  {
   "cell_type": "code",
   "execution_count": 68,
   "id": "b8f35485",
   "metadata": {},
   "outputs": [],
   "source": [
    "months = {\"Jan\":1, \"Feb\":2, \"Mar\":3, \"Oct\":10, \"Sep\":9, \"Apr\":4, \"May\":5, \"Jun\":6, \"Jul\":7, \"Aug\":8, \"Nov\":11, \"Dec\":12, np.nan: np.nan}"
   ]
  },
  {
   "cell_type": "code",
   "execution_count": 69,
   "id": "84e7dc5e",
   "metadata": {},
   "outputs": [],
   "source": [
    "shark_cleanned_2[\"new\"] = shark_cleanned_2[\"Months\"].apply(lambda x: months[x])"
   ]
  },
  {
   "cell_type": "code",
   "execution_count": 117,
   "id": "21cdd02c",
   "metadata": {
    "scrolled": true
   },
   "outputs": [
    {
     "data": {
      "text/html": [
       "<div>\n",
       "<style scoped>\n",
       "    .dataframe tbody tr th:only-of-type {\n",
       "        vertical-align: middle;\n",
       "    }\n",
       "\n",
       "    .dataframe tbody tr th {\n",
       "        vertical-align: top;\n",
       "    }\n",
       "\n",
       "    .dataframe thead th {\n",
       "        text-align: right;\n",
       "    }\n",
       "</style>\n",
       "<table border=\"1\" class=\"dataframe\">\n",
       "  <thead>\n",
       "    <tr style=\"text-align: right;\">\n",
       "      <th></th>\n",
       "      <th>Unnamed: 0</th>\n",
       "      <th>Year</th>\n",
       "      <th>Type</th>\n",
       "      <th>Country</th>\n",
       "      <th>Area</th>\n",
       "      <th>Location</th>\n",
       "      <th>Activity</th>\n",
       "      <th>Name</th>\n",
       "      <th>Sex_</th>\n",
       "      <th>Age</th>\n",
       "      <th>Injury</th>\n",
       "      <th>Fatal_(y/n)</th>\n",
       "      <th>Time</th>\n",
       "      <th>Months</th>\n",
       "      <th>Species</th>\n",
       "      <th>new</th>\n",
       "    </tr>\n",
       "  </thead>\n",
       "  <tbody>\n",
       "    <tr>\n",
       "      <th>232</th>\n",
       "      <td>232</td>\n",
       "      <td>2016.0</td>\n",
       "      <td>Unprovoked</td>\n",
       "      <td>USA</td>\n",
       "      <td>Hawaii</td>\n",
       "      <td>Maui</td>\n",
       "      <td>SUP Foil boarding</td>\n",
       "      <td>Connor Baxter</td>\n",
       "      <td>M</td>\n",
       "      <td>21</td>\n",
       "      <td>No inury, shark &amp; board collided</td>\n",
       "      <td>N</td>\n",
       "      <td>16h30</td>\n",
       "      <td>Aug</td>\n",
       "      <td>tigershark</td>\n",
       "      <td>8</td>\n",
       "    </tr>\n",
       "    <tr>\n",
       "      <th>622</th>\n",
       "      <td>622</td>\n",
       "      <td>2013.0</td>\n",
       "      <td>Unprovoked</td>\n",
       "      <td>USA</td>\n",
       "      <td>Florida</td>\n",
       "      <td>Casino Beach, Pensacola, Escambia County</td>\n",
       "      <td>Swimming</td>\n",
       "      <td>Trevor Kalck</td>\n",
       "      <td>M</td>\n",
       "      <td>21</td>\n",
       "      <td>Lacerations to right foot</td>\n",
       "      <td>N</td>\n",
       "      <td>15h30</td>\n",
       "      <td>Sep</td>\n",
       "      <td>bullshark</td>\n",
       "      <td>9</td>\n",
       "    </tr>\n",
       "    <tr>\n",
       "      <th>278</th>\n",
       "      <td>278</td>\n",
       "      <td>2016.0</td>\n",
       "      <td>Provoked</td>\n",
       "      <td>USA</td>\n",
       "      <td>Florida</td>\n",
       "      <td>Boca Raton, Palm Beach County</td>\n",
       "      <td>Teasing a shark</td>\n",
       "      <td>female</td>\n",
       "      <td>F</td>\n",
       "      <td>23</td>\n",
       "      <td>Arm grabbed PROVOKED INCIDENT</td>\n",
       "      <td>N</td>\n",
       "      <td>13h20</td>\n",
       "      <td>May</td>\n",
       "      <td>nurseshark</td>\n",
       "      <td>5</td>\n",
       "    </tr>\n",
       "  </tbody>\n",
       "</table>\n",
       "</div>"
      ],
      "text/plain": [
       "     Unnamed: 0    Year        Type Country     Area  \\\n",
       "232         232  2016.0  Unprovoked     USA   Hawaii   \n",
       "622         622  2013.0  Unprovoked     USA  Florida   \n",
       "278         278  2016.0    Provoked     USA  Florida   \n",
       "\n",
       "                                     Location           Activity  \\\n",
       "232                                      Maui  SUP Foil boarding   \n",
       "622  Casino Beach, Pensacola, Escambia County           Swimming   \n",
       "278             Boca Raton, Palm Beach County    Teasing a shark   \n",
       "\n",
       "              Name Sex_ Age                            Injury Fatal_(y/n)  \\\n",
       "232  Connor Baxter    M  21  No inury, shark & board collided           N   \n",
       "622   Trevor Kalck    M  21         Lacerations to right foot           N   \n",
       "278         female    F  23     Arm grabbed PROVOKED INCIDENT           N   \n",
       "\n",
       "      Time Months     Species  new  \n",
       "232  16h30    Aug  tigershark    8  \n",
       "622  15h30    Sep   bullshark    9  \n",
       "278  13h20    May  nurseshark    5  "
      ]
     },
     "execution_count": 117,
     "metadata": {},
     "output_type": "execute_result"
    }
   ],
   "source": [
    "shark_cleanned_2.sample(3)"
   ]
  },
  {
   "cell_type": "markdown",
   "id": "0bae4fb8",
   "metadata": {},
   "source": [
    "sort the values with the new column "
   ]
  },
  {
   "cell_type": "code",
   "execution_count": 87,
   "id": "2fcb74e9",
   "metadata": {},
   "outputs": [],
   "source": [
    "shark_cleanned_2.sort_values(by=[\"new\"], inplace = True)"
   ]
  },
  {
   "cell_type": "code",
   "execution_count": 89,
   "id": "762cad4a",
   "metadata": {},
   "outputs": [
    {
     "data": {
      "text/html": [
       "<div>\n",
       "<style scoped>\n",
       "    .dataframe tbody tr th:only-of-type {\n",
       "        vertical-align: middle;\n",
       "    }\n",
       "\n",
       "    .dataframe tbody tr th {\n",
       "        vertical-align: top;\n",
       "    }\n",
       "\n",
       "    .dataframe thead th {\n",
       "        text-align: right;\n",
       "    }\n",
       "</style>\n",
       "<table border=\"1\" class=\"dataframe\">\n",
       "  <thead>\n",
       "    <tr style=\"text-align: right;\">\n",
       "      <th>Months</th>\n",
       "      <th>Apr</th>\n",
       "      <th>Aug</th>\n",
       "      <th>Dec</th>\n",
       "      <th>Feb</th>\n",
       "      <th>Jan</th>\n",
       "      <th>Jul</th>\n",
       "      <th>Jun</th>\n",
       "      <th>Mar</th>\n",
       "      <th>May</th>\n",
       "      <th>Nov</th>\n",
       "      <th>Oct</th>\n",
       "      <th>Sep</th>\n",
       "    </tr>\n",
       "    <tr>\n",
       "      <th>Species</th>\n",
       "      <th></th>\n",
       "      <th></th>\n",
       "      <th></th>\n",
       "      <th></th>\n",
       "      <th></th>\n",
       "      <th></th>\n",
       "      <th></th>\n",
       "      <th></th>\n",
       "      <th></th>\n",
       "      <th></th>\n",
       "      <th></th>\n",
       "      <th></th>\n",
       "    </tr>\n",
       "  </thead>\n",
       "  <tbody>\n",
       "    <tr>\n",
       "      <th>blacktipshark</th>\n",
       "      <td>0</td>\n",
       "      <td>1</td>\n",
       "      <td>0</td>\n",
       "      <td>1</td>\n",
       "      <td>2</td>\n",
       "      <td>1</td>\n",
       "      <td>2</td>\n",
       "      <td>1</td>\n",
       "      <td>3</td>\n",
       "      <td>1</td>\n",
       "      <td>5</td>\n",
       "      <td>1</td>\n",
       "    </tr>\n",
       "    <tr>\n",
       "      <th>blueshark</th>\n",
       "      <td>0</td>\n",
       "      <td>2</td>\n",
       "      <td>0</td>\n",
       "      <td>0</td>\n",
       "      <td>0</td>\n",
       "      <td>3</td>\n",
       "      <td>1</td>\n",
       "      <td>1</td>\n",
       "      <td>0</td>\n",
       "      <td>0</td>\n",
       "      <td>0</td>\n",
       "      <td>0</td>\n",
       "    </tr>\n",
       "    <tr>\n",
       "      <th>bullshark</th>\n",
       "      <td>8</td>\n",
       "      <td>7</td>\n",
       "      <td>5</td>\n",
       "      <td>3</td>\n",
       "      <td>6</td>\n",
       "      <td>3</td>\n",
       "      <td>11</td>\n",
       "      <td>2</td>\n",
       "      <td>6</td>\n",
       "      <td>2</td>\n",
       "      <td>1</td>\n",
       "      <td>6</td>\n",
       "    </tr>\n",
       "    <tr>\n",
       "      <th>galapagosshark</th>\n",
       "      <td>0</td>\n",
       "      <td>0</td>\n",
       "      <td>0</td>\n",
       "      <td>1</td>\n",
       "      <td>0</td>\n",
       "      <td>0</td>\n",
       "      <td>0</td>\n",
       "      <td>0</td>\n",
       "      <td>1</td>\n",
       "      <td>1</td>\n",
       "      <td>0</td>\n",
       "      <td>0</td>\n",
       "    </tr>\n",
       "    <tr>\n",
       "      <th>nurseshark</th>\n",
       "      <td>0</td>\n",
       "      <td>0</td>\n",
       "      <td>0</td>\n",
       "      <td>0</td>\n",
       "      <td>0</td>\n",
       "      <td>2</td>\n",
       "      <td>2</td>\n",
       "      <td>1</td>\n",
       "      <td>2</td>\n",
       "      <td>0</td>\n",
       "      <td>0</td>\n",
       "      <td>1</td>\n",
       "    </tr>\n",
       "    <tr>\n",
       "      <th>porbeagleshark</th>\n",
       "      <td>0</td>\n",
       "      <td>0</td>\n",
       "      <td>0</td>\n",
       "      <td>0</td>\n",
       "      <td>0</td>\n",
       "      <td>0</td>\n",
       "      <td>0</td>\n",
       "      <td>0</td>\n",
       "      <td>0</td>\n",
       "      <td>0</td>\n",
       "      <td>1</td>\n",
       "      <td>0</td>\n",
       "    </tr>\n",
       "    <tr>\n",
       "      <th>reefshark</th>\n",
       "      <td>1</td>\n",
       "      <td>0</td>\n",
       "      <td>0</td>\n",
       "      <td>1</td>\n",
       "      <td>0</td>\n",
       "      <td>1</td>\n",
       "      <td>0</td>\n",
       "      <td>0</td>\n",
       "      <td>0</td>\n",
       "      <td>0</td>\n",
       "      <td>0</td>\n",
       "      <td>0</td>\n",
       "    </tr>\n",
       "    <tr>\n",
       "      <th>spinnershark</th>\n",
       "      <td>0</td>\n",
       "      <td>1</td>\n",
       "      <td>0</td>\n",
       "      <td>1</td>\n",
       "      <td>0</td>\n",
       "      <td>0</td>\n",
       "      <td>0</td>\n",
       "      <td>2</td>\n",
       "      <td>0</td>\n",
       "      <td>0</td>\n",
       "      <td>2</td>\n",
       "      <td>1</td>\n",
       "    </tr>\n",
       "    <tr>\n",
       "      <th>tigershark</th>\n",
       "      <td>12</td>\n",
       "      <td>4</td>\n",
       "      <td>7</td>\n",
       "      <td>3</td>\n",
       "      <td>6</td>\n",
       "      <td>2</td>\n",
       "      <td>3</td>\n",
       "      <td>7</td>\n",
       "      <td>5</td>\n",
       "      <td>9</td>\n",
       "      <td>10</td>\n",
       "      <td>6</td>\n",
       "    </tr>\n",
       "    <tr>\n",
       "      <th>whiteshark</th>\n",
       "      <td>9</td>\n",
       "      <td>20</td>\n",
       "      <td>15</td>\n",
       "      <td>9</td>\n",
       "      <td>11</td>\n",
       "      <td>19</td>\n",
       "      <td>16</td>\n",
       "      <td>3</td>\n",
       "      <td>8</td>\n",
       "      <td>7</td>\n",
       "      <td>20</td>\n",
       "      <td>27</td>\n",
       "    </tr>\n",
       "    <tr>\n",
       "      <th>wobbegongshark</th>\n",
       "      <td>1</td>\n",
       "      <td>0</td>\n",
       "      <td>2</td>\n",
       "      <td>2</td>\n",
       "      <td>0</td>\n",
       "      <td>0</td>\n",
       "      <td>0</td>\n",
       "      <td>2</td>\n",
       "      <td>1</td>\n",
       "      <td>1</td>\n",
       "      <td>2</td>\n",
       "      <td>0</td>\n",
       "    </tr>\n",
       "  </tbody>\n",
       "</table>\n",
       "</div>"
      ],
      "text/plain": [
       "Months          Apr  Aug  Dec  Feb  Jan  Jul  Jun  Mar  May  Nov  Oct  Sep\n",
       "Species                                                                   \n",
       "blacktipshark     0    1    0    1    2    1    2    1    3    1    5    1\n",
       "blueshark         0    2    0    0    0    3    1    1    0    0    0    0\n",
       "bullshark         8    7    5    3    6    3   11    2    6    2    1    6\n",
       "galapagosshark    0    0    0    1    0    0    0    0    1    1    0    0\n",
       "nurseshark        0    0    0    0    0    2    2    1    2    0    0    1\n",
       "porbeagleshark    0    0    0    0    0    0    0    0    0    0    1    0\n",
       "reefshark         1    0    0    1    0    1    0    0    0    0    0    0\n",
       "spinnershark      0    1    0    1    0    0    0    2    0    0    2    1\n",
       "tigershark       12    4    7    3    6    2    3    7    5    9   10    6\n",
       "whiteshark        9   20   15    9   11   19   16    3    8    7   20   27\n",
       "wobbegongshark    1    0    2    2    0    0    0    2    1    1    2    0"
      ]
     },
     "execution_count": 89,
     "metadata": {},
     "output_type": "execute_result"
    }
   ],
   "source": [
    "Comparation = pd.crosstab(shark_cleanned_2[\"Species\"], shark_cleanned_2[\"Months\"])\n",
    "Comparation"
   ]
  },
  {
   "cell_type": "code",
   "execution_count": 90,
   "id": "0fe6eb31",
   "metadata": {},
   "outputs": [
    {
     "data": {
      "image/png": "[encoded data removed]",
      "text/plain": [
       "<Figure size 432x288 with 1 Axes>"
      ]
     },
     "metadata": {
      "needs_background": "light"
     },
     "output_type": "display_data"
    }
   ],
   "source": [
    "sns.countplot(x=shark_cleanned_2[\"Months\"], hue=shark_cleanned_2[\"Species\"], palette=\"magma\");"
   ]
  },
  {
   "cell_type": "code",
   "execution_count": 91,
   "id": "9da3ca54",
   "metadata": {},
   "outputs": [
    {
     "data": {
      "image/png": "[encoded data removed]",
      "text/plain": [
       "<Figure size 432x288 with 1 Axes>"
      ]
     },
     "metadata": {
      "needs_background": "light"
     },
     "output_type": "display_data"
    }
   ],
   "source": [
    "sns.countplot(y=shark_cleanned_2.Species, hue=shark_cleanned_2.Months);"
   ]
  },
  {
   "cell_type": "code",
   "execution_count": 92,
   "id": "13fbb9f9",
   "metadata": {},
   "outputs": [
    {
     "data": {
      "text/plain": [
       "whiteshark        164\n",
       "tigershark         74\n",
       "bullshark          60\n",
       "blacktipshark      18\n",
       "wobbegongshark     11\n",
       "nurseshark          8\n",
       "spinnershark        7\n",
       "blueshark           7\n",
       "reefshark           3\n",
       "galapagosshark      3\n",
       "porbeagleshark      1\n",
       "Name: Species, dtype: int64"
      ]
     },
     "execution_count": 92,
     "metadata": {},
     "output_type": "execute_result"
    }
   ],
   "source": [
    "shark_cleanned_2.Species.value_counts()"
   ]
  },
  {
   "cell_type": "code",
   "execution_count": 82,
   "id": "614563f4",
   "metadata": {},
   "outputs": [
    {
     "data": {
      "text/html": [
       "<div>\n",
       "<style scoped>\n",
       "    .dataframe tbody tr th:only-of-type {\n",
       "        vertical-align: middle;\n",
       "    }\n",
       "\n",
       "    .dataframe tbody tr th {\n",
       "        vertical-align: top;\n",
       "    }\n",
       "\n",
       "    .dataframe thead th {\n",
       "        text-align: right;\n",
       "    }\n",
       "</style>\n",
       "<table border=\"1\" class=\"dataframe\">\n",
       "  <thead>\n",
       "    <tr style=\"text-align: right;\">\n",
       "      <th></th>\n",
       "      <th>Unnamed: 0</th>\n",
       "      <th>Year</th>\n",
       "      <th>Type</th>\n",
       "      <th>Country</th>\n",
       "      <th>Area</th>\n",
       "      <th>Location</th>\n",
       "      <th>Activity</th>\n",
       "      <th>Name</th>\n",
       "      <th>Sex_</th>\n",
       "      <th>Age</th>\n",
       "      <th>Injury</th>\n",
       "      <th>Fatal_(y/n)</th>\n",
       "      <th>Time</th>\n",
       "      <th>Months</th>\n",
       "      <th>Species</th>\n",
       "    </tr>\n",
       "  </thead>\n",
       "  <tbody>\n",
       "    <tr>\n",
       "      <th>0</th>\n",
       "      <td>0</td>\n",
       "      <td>2018.0</td>\n",
       "      <td>Boating</td>\n",
       "      <td>USA</td>\n",
       "      <td>California</td>\n",
       "      <td>Oceanside, San Diego County</td>\n",
       "      <td>Paddling</td>\n",
       "      <td>Julie Wolfe</td>\n",
       "      <td>F</td>\n",
       "      <td>57</td>\n",
       "      <td>No injury to occupant, outrigger canoe and pad...</td>\n",
       "      <td>N</td>\n",
       "      <td>18h00</td>\n",
       "      <td>Jun</td>\n",
       "      <td>whiteshark</td>\n",
       "    </tr>\n",
       "    <tr>\n",
       "      <th>22</th>\n",
       "      <td>22</td>\n",
       "      <td>2018.0</td>\n",
       "      <td>Unprovoked</td>\n",
       "      <td>AUSTRALIA</td>\n",
       "      <td>Western Australia</td>\n",
       "      <td>South Point, Gracetown</td>\n",
       "      <td>Surfing</td>\n",
       "      <td>Nathan Burch</td>\n",
       "      <td>M</td>\n",
       "      <td>NaN</td>\n",
       "      <td>No injury, shark struck his leg</td>\n",
       "      <td>N</td>\n",
       "      <td>Afternoon</td>\n",
       "      <td>Apr</td>\n",
       "      <td>whiteshark</td>\n",
       "    </tr>\n",
       "    <tr>\n",
       "      <th>24</th>\n",
       "      <td>24</td>\n",
       "      <td>2018.0</td>\n",
       "      <td>Unprovoked</td>\n",
       "      <td>SOUTH AFRICA</td>\n",
       "      <td>Western Cape Province</td>\n",
       "      <td>Robberg Beach, Plettenberg Bay</td>\n",
       "      <td>Paddle-skiing</td>\n",
       "      <td>male</td>\n",
       "      <td>M</td>\n",
       "      <td>33</td>\n",
       "      <td>No injury, shark bit hole in ski</td>\n",
       "      <td>N</td>\n",
       "      <td>09h40</td>\n",
       "      <td>Apr</td>\n",
       "      <td>whiteshark</td>\n",
       "    </tr>\n",
       "    <tr>\n",
       "      <th>34</th>\n",
       "      <td>34</td>\n",
       "      <td>2018.0</td>\n",
       "      <td>Unprovoked</td>\n",
       "      <td>SOUTH AFRICA</td>\n",
       "      <td>Eastern Cape Province</td>\n",
       "      <td>St. Francis Bay</td>\n",
       "      <td>Surfing</td>\n",
       "      <td>Ross Spowart</td>\n",
       "      <td>M</td>\n",
       "      <td>19</td>\n",
       "      <td>Lacerations to left knee &amp; lower leg</td>\n",
       "      <td>N</td>\n",
       "      <td>15h00</td>\n",
       "      <td>Apr</td>\n",
       "      <td>whiteshark</td>\n",
       "    </tr>\n",
       "    <tr>\n",
       "      <th>40</th>\n",
       "      <td>40</td>\n",
       "      <td>2018.0</td>\n",
       "      <td>Unprovoked</td>\n",
       "      <td>AUSTRALIA</td>\n",
       "      <td>New South Wales</td>\n",
       "      <td>Little Congwong Beach, La Perouse</td>\n",
       "      <td>Swimming</td>\n",
       "      <td>Anna Shurapey</td>\n",
       "      <td>F</td>\n",
       "      <td>55</td>\n",
       "      <td>Laceratons to right leg &amp; foot</td>\n",
       "      <td>N</td>\n",
       "      <td>19h00, Dusk</td>\n",
       "      <td>NaN</td>\n",
       "      <td>whiteshark</td>\n",
       "    </tr>\n",
       "    <tr>\n",
       "      <th>...</th>\n",
       "      <td>...</td>\n",
       "      <td>...</td>\n",
       "      <td>...</td>\n",
       "      <td>...</td>\n",
       "      <td>...</td>\n",
       "      <td>...</td>\n",
       "      <td>...</td>\n",
       "      <td>...</td>\n",
       "      <td>...</td>\n",
       "      <td>...</td>\n",
       "      <td>...</td>\n",
       "      <td>...</td>\n",
       "      <td>...</td>\n",
       "      <td>...</td>\n",
       "      <td>...</td>\n",
       "    </tr>\n",
       "    <tr>\n",
       "      <th>6007</th>\n",
       "      <td>6007</td>\n",
       "      <td>1853.0</td>\n",
       "      <td>Unprovoked</td>\n",
       "      <td>USA</td>\n",
       "      <td>North Carolina</td>\n",
       "      <td>Morehead, Carteret County</td>\n",
       "      <td>Commercial Salvage Diving</td>\n",
       "      <td>Alfetto</td>\n",
       "      <td>M</td>\n",
       "      <td>NaN</td>\n",
       "      <td>No injury. Copper breastplate &amp; harness bitten</td>\n",
       "      <td>N</td>\n",
       "      <td>NaN</td>\n",
       "      <td>NaN</td>\n",
       "      <td>whiteshark</td>\n",
       "    </tr>\n",
       "    <tr>\n",
       "      <th>6011</th>\n",
       "      <td>6011</td>\n",
       "      <td>1853.0</td>\n",
       "      <td>Unprovoked</td>\n",
       "      <td>USA</td>\n",
       "      <td>North Carolina</td>\n",
       "      <td>Morehead, Carteret County</td>\n",
       "      <td>Hard hat diving</td>\n",
       "      <td>Mark Dare</td>\n",
       "      <td>M</td>\n",
       "      <td>NaN</td>\n",
       "      <td>No injury, copper breastplate punctured</td>\n",
       "      <td>N</td>\n",
       "      <td>NaN</td>\n",
       "      <td>NaN</td>\n",
       "      <td>whiteshark</td>\n",
       "    </tr>\n",
       "    <tr>\n",
       "      <th>6162</th>\n",
       "      <td>6162</td>\n",
       "      <td>1700.0</td>\n",
       "      <td>Unprovoked</td>\n",
       "      <td>FRANCE</td>\n",
       "      <td>Côte d'Azur</td>\n",
       "      <td>Antibes</td>\n",
       "      <td>Bathing</td>\n",
       "      <td>seaman</td>\n",
       "      <td>M</td>\n",
       "      <td>NaN</td>\n",
       "      <td>Leg severed</td>\n",
       "      <td>N</td>\n",
       "      <td>NaN</td>\n",
       "      <td>NaN</td>\n",
       "      <td>whiteshark</td>\n",
       "    </tr>\n",
       "    <tr>\n",
       "      <th>6244</th>\n",
       "      <td>6244</td>\n",
       "      <td>0.0</td>\n",
       "      <td>Unprovoked</td>\n",
       "      <td>BAHAMAS</td>\n",
       "      <td>Andros Islands</td>\n",
       "      <td>NaN</td>\n",
       "      <td>NaN</td>\n",
       "      <td>male, a sponge Diver</td>\n",
       "      <td>M</td>\n",
       "      <td>NaN</td>\n",
       "      <td>Lower leg and forearm severed</td>\n",
       "      <td>N</td>\n",
       "      <td>NaN</td>\n",
       "      <td>NaN</td>\n",
       "      <td>whiteshark</td>\n",
       "    </tr>\n",
       "    <tr>\n",
       "      <th>6274</th>\n",
       "      <td>6274</td>\n",
       "      <td>0.0</td>\n",
       "      <td>Boat</td>\n",
       "      <td>ITALY</td>\n",
       "      <td>Adriatic Sea</td>\n",
       "      <td>NaN</td>\n",
       "      <td>Wooden fishing boat</td>\n",
       "      <td>Occupant:     Mr. Maciotta</td>\n",
       "      <td>M</td>\n",
       "      <td>NaN</td>\n",
       "      <td>No injury to occupant; shark capsized boat</td>\n",
       "      <td>N</td>\n",
       "      <td>NaN</td>\n",
       "      <td>NaN</td>\n",
       "      <td>whiteshark</td>\n",
       "    </tr>\n",
       "  </tbody>\n",
       "</table>\n",
       "<p>316 rows × 15 columns</p>\n",
       "</div>"
      ],
      "text/plain": [
       "      Unnamed: 0    Year        Type       Country                   Area  \\\n",
       "0              0  2018.0     Boating           USA             California   \n",
       "22            22  2018.0  Unprovoked     AUSTRALIA      Western Australia   \n",
       "24            24  2018.0  Unprovoked  SOUTH AFRICA  Western Cape Province   \n",
       "34            34  2018.0  Unprovoked  SOUTH AFRICA  Eastern Cape Province   \n",
       "40            40  2018.0  Unprovoked     AUSTRALIA        New South Wales   \n",
       "...          ...     ...         ...           ...                    ...   \n",
       "6007        6007  1853.0  Unprovoked           USA         North Carolina   \n",
       "6011        6011  1853.0  Unprovoked           USA         North Carolina   \n",
       "6162        6162  1700.0  Unprovoked        FRANCE           Côte d'Azur    \n",
       "6244        6244     0.0  Unprovoked       BAHAMAS         Andros Islands   \n",
       "6274        6274     0.0        Boat         ITALY           Adriatic Sea   \n",
       "\n",
       "                                Location                   Activity  \\\n",
       "0            Oceanside, San Diego County                   Paddling   \n",
       "22                South Point, Gracetown                    Surfing   \n",
       "24        Robberg Beach, Plettenberg Bay              Paddle-skiing   \n",
       "34                       St. Francis Bay                    Surfing   \n",
       "40    Little Congwong Beach, La Perouse                    Swimming   \n",
       "...                                  ...                        ...   \n",
       "6007           Morehead, Carteret County  Commercial Salvage Diving   \n",
       "6011           Morehead, Carteret County            Hard hat diving   \n",
       "6162                             Antibes                    Bathing   \n",
       "6244                                 NaN                        NaN   \n",
       "6274                                 NaN        Wooden fishing boat   \n",
       "\n",
       "                            Name Sex_  Age  \\\n",
       "0                    Julie Wolfe    F   57   \n",
       "22                  Nathan Burch    M  NaN   \n",
       "24                          male    M   33   \n",
       "34                  Ross Spowart    M   19   \n",
       "40                Anna Shurapey     F   55   \n",
       "...                          ...  ...  ...   \n",
       "6007                     Alfetto    M  NaN   \n",
       "6011                   Mark Dare    M  NaN   \n",
       "6162                      seaman    M  NaN   \n",
       "6244        male, a sponge Diver    M  NaN   \n",
       "6274  Occupant:     Mr. Maciotta    M  NaN   \n",
       "\n",
       "                                                 Injury Fatal_(y/n)  \\\n",
       "0     No injury to occupant, outrigger canoe and pad...           N   \n",
       "22                      No injury, shark struck his leg           N   \n",
       "24                     No injury, shark bit hole in ski           N   \n",
       "34                 Lacerations to left knee & lower leg           N   \n",
       "40                       Laceratons to right leg & foot           N   \n",
       "...                                                 ...         ...   \n",
       "6007     No injury. Copper breastplate & harness bitten           N   \n",
       "6011            No injury, copper breastplate punctured           N   \n",
       "6162                                        Leg severed           N   \n",
       "6244                      Lower leg and forearm severed           N   \n",
       "6274         No injury to occupant; shark capsized boat           N   \n",
       "\n",
       "             Time Months     Species  \n",
       "0           18h00    Jun  whiteshark  \n",
       "22      Afternoon    Apr  whiteshark  \n",
       "24          09h40    Apr  whiteshark  \n",
       "34          15h00    Apr  whiteshark  \n",
       "40    19h00, Dusk    NaN  whiteshark  \n",
       "...           ...    ...         ...  \n",
       "6007          NaN    NaN  whiteshark  \n",
       "6011          NaN    NaN  whiteshark  \n",
       "6162          NaN    NaN  whiteshark  \n",
       "6244          NaN    NaN  whiteshark  \n",
       "6274          NaN    NaN  whiteshark  \n",
       "\n",
       "[316 rows x 15 columns]"
      ]
     },
     "execution_count": 82,
     "metadata": {},
     "output_type": "execute_result"
    }
   ],
   "source": [
    "shark_cleanned_2[(shark_cleanned_2.Species==\"whiteshark\")]"
   ]
  },
  {
   "cell_type": "code",
   "execution_count": 118,
   "id": "c24ef051",
   "metadata": {},
   "outputs": [
    {
     "ename": "TypeError",
     "evalue": "The x variable is categorical, but one of ['numeric', 'datetime'] is required",
     "output_type": "error",
     "traceback": [
      "\u001b[1;31m---------------------------------------------------------------------------\u001b[0m",
      "\u001b[1;31mTypeError\u001b[0m                                 Traceback (most recent call last)",
      "Input \u001b[1;32mIn [118]\u001b[0m, in \u001b[0;36m<cell line: 1>\u001b[1;34m()\u001b[0m\n\u001b[1;32m----> 1\u001b[0m \u001b[43msns\u001b[49m\u001b[38;5;241;43m.\u001b[39;49m\u001b[43mjointplot\u001b[49m\u001b[43m(\u001b[49m\u001b[43mdata\u001b[49m\u001b[38;5;241;43m=\u001b[39;49m\u001b[43mshark_cleanned_2\u001b[49m\u001b[43m,\u001b[49m\u001b[43m \u001b[49m\u001b[43mx\u001b[49m\u001b[38;5;241;43m=\u001b[39;49m\u001b[43m \u001b[49m\u001b[38;5;124;43m\"\u001b[39;49m\u001b[38;5;124;43mMonths\u001b[39;49m\u001b[38;5;124;43m\"\u001b[39;49m\u001b[43m,\u001b[49m\u001b[43m \u001b[49m\u001b[43my\u001b[49m\u001b[38;5;241;43m=\u001b[39;49m\u001b[43m \u001b[49m\u001b[38;5;124;43m\"\u001b[39;49m\u001b[38;5;124;43mTime\u001b[39;49m\u001b[38;5;124;43m\"\u001b[39;49m\u001b[43m,\u001b[49m\u001b[43m \u001b[49m\u001b[43mhue\u001b[49m\u001b[38;5;241;43m=\u001b[39;49m\u001b[38;5;124;43m\"\u001b[39;49m\u001b[38;5;124;43mSpecies\u001b[39;49m\u001b[38;5;124;43m\"\u001b[39;49m\u001b[43m)\u001b[49m\n",
      "File \u001b[1;32m~\\miniconda2\\envs\\ironhack\\lib\\site-packages\\seaborn\\axisgrid.py:2265\u001b[0m, in \u001b[0;36mjointplot\u001b[1;34m(data, x, y, hue, kind, height, ratio, space, dropna, xlim, ylim, color, palette, hue_order, hue_norm, marginal_ticks, joint_kws, marginal_kws, **kwargs)\u001b[0m\n\u001b[0;32m   2262\u001b[0m         marginal_kws\u001b[38;5;241m.\u001b[39msetdefault(\u001b[38;5;124m\"\u001b[39m\u001b[38;5;124mfill\u001b[39m\u001b[38;5;124m\"\u001b[39m, \u001b[38;5;28;01mTrue\u001b[39;00m)\n\u001b[0;32m   2264\u001b[0m     marginal_kws\u001b[38;5;241m.\u001b[39msetdefault(\u001b[38;5;124m\"\u001b[39m\u001b[38;5;124mcolor\u001b[39m\u001b[38;5;124m\"\u001b[39m, color)\n\u001b[1;32m-> 2265\u001b[0m     grid\u001b[38;5;241m.\u001b[39mplot_marginals(marg_func, \u001b[38;5;241m*\u001b[39m\u001b[38;5;241m*\u001b[39mmarginal_kws)\n\u001b[0;32m   2267\u001b[0m \u001b[38;5;28;01melif\u001b[39;00m kind\u001b[38;5;241m.\u001b[39mstartswith(\u001b[38;5;124m\"\u001b[39m\u001b[38;5;124mhist\u001b[39m\u001b[38;5;124m\"\u001b[39m):\n\u001b[0;32m   2268\u001b[0m \n\u001b[0;32m   2269\u001b[0m     \u001b[38;5;66;03m# TODO process pair parameters for bins, etc. and pass\u001b[39;00m\n\u001b[0;32m   2270\u001b[0m     \u001b[38;5;66;03m# to both joint and marginal plots\u001b[39;00m\n\u001b[0;32m   2272\u001b[0m     joint_kws\u001b[38;5;241m.\u001b[39msetdefault(\u001b[38;5;124m\"\u001b[39m\u001b[38;5;124mcolor\u001b[39m\u001b[38;5;124m\"\u001b[39m, color)\n",
      "File \u001b[1;32m~\\miniconda2\\envs\\ironhack\\lib\\site-packages\\seaborn\\axisgrid.py:1877\u001b[0m, in \u001b[0;36mJointGrid.plot_marginals\u001b[1;34m(self, func, **kwargs)\u001b[0m\n\u001b[0;32m   1874\u001b[0m     orient_kw_y \u001b[38;5;241m=\u001b[39m {\u001b[38;5;124m\"\u001b[39m\u001b[38;5;124mvertical\u001b[39m\u001b[38;5;124m\"\u001b[39m: \u001b[38;5;28;01mTrue\u001b[39;00m}\n\u001b[0;32m   1876\u001b[0m \u001b[38;5;28;01mif\u001b[39;00m seaborn_func:\n\u001b[1;32m-> 1877\u001b[0m     func(x\u001b[38;5;241m=\u001b[39m\u001b[38;5;28mself\u001b[39m\u001b[38;5;241m.\u001b[39mx, ax\u001b[38;5;241m=\u001b[39m\u001b[38;5;28mself\u001b[39m\u001b[38;5;241m.\u001b[39max_marg_x, \u001b[38;5;241m*\u001b[39m\u001b[38;5;241m*\u001b[39mkwargs)\n\u001b[0;32m   1878\u001b[0m \u001b[38;5;28;01melse\u001b[39;00m:\n\u001b[0;32m   1879\u001b[0m     plt\u001b[38;5;241m.\u001b[39msca(\u001b[38;5;28mself\u001b[39m\u001b[38;5;241m.\u001b[39max_marg_x)\n",
      "File \u001b[1;32m~\\miniconda2\\envs\\ironhack\\lib\\site-packages\\seaborn\\distributions.py:1695\u001b[0m, in \u001b[0;36mkdeplot\u001b[1;34m(data, x, y, hue, weights, palette, hue_order, hue_norm, color, fill, multiple, common_norm, common_grid, cumulative, bw_method, bw_adjust, warn_singular, log_scale, levels, thresh, gridsize, cut, clip, legend, cbar, cbar_ax, cbar_kws, ax, **kwargs)\u001b[0m\n\u001b[0;32m   1692\u001b[0m \u001b[38;5;28;01mif\u001b[39;00m ax \u001b[38;5;129;01mis\u001b[39;00m \u001b[38;5;28;01mNone\u001b[39;00m:\n\u001b[0;32m   1693\u001b[0m     ax \u001b[38;5;241m=\u001b[39m plt\u001b[38;5;241m.\u001b[39mgca()\n\u001b[1;32m-> 1695\u001b[0m \u001b[43mp\u001b[49m\u001b[38;5;241;43m.\u001b[39;49m\u001b[43m_attach\u001b[49m\u001b[43m(\u001b[49m\u001b[43max\u001b[49m\u001b[43m,\u001b[49m\u001b[43m \u001b[49m\u001b[43mallowed_types\u001b[49m\u001b[38;5;241;43m=\u001b[39;49m\u001b[43m[\u001b[49m\u001b[38;5;124;43m\"\u001b[39;49m\u001b[38;5;124;43mnumeric\u001b[39;49m\u001b[38;5;124;43m\"\u001b[39;49m\u001b[43m,\u001b[49m\u001b[43m \u001b[49m\u001b[38;5;124;43m\"\u001b[39;49m\u001b[38;5;124;43mdatetime\u001b[39;49m\u001b[38;5;124;43m\"\u001b[39;49m\u001b[43m]\u001b[49m\u001b[43m,\u001b[49m\u001b[43m \u001b[49m\u001b[43mlog_scale\u001b[49m\u001b[38;5;241;43m=\u001b[39;49m\u001b[43mlog_scale\u001b[49m\u001b[43m)\u001b[49m\n\u001b[0;32m   1697\u001b[0m method \u001b[38;5;241m=\u001b[39m ax\u001b[38;5;241m.\u001b[39mfill_between \u001b[38;5;28;01mif\u001b[39;00m fill \u001b[38;5;28;01melse\u001b[39;00m ax\u001b[38;5;241m.\u001b[39mplot\n\u001b[0;32m   1698\u001b[0m color \u001b[38;5;241m=\u001b[39m _default_color(method, hue, color, kwargs)\n",
      "File \u001b[1;32m~\\miniconda2\\envs\\ironhack\\lib\\site-packages\\seaborn\\_oldcore.py:1211\u001b[0m, in \u001b[0;36mVectorPlotter._attach\u001b[1;34m(self, obj, allowed_types, log_scale)\u001b[0m\n\u001b[0;32m   1206\u001b[0m     \u001b[38;5;28;01mif\u001b[39;00m var_type \u001b[38;5;129;01mnot\u001b[39;00m \u001b[38;5;129;01min\u001b[39;00m allowed_types:\n\u001b[0;32m   1207\u001b[0m         err \u001b[38;5;241m=\u001b[39m (\n\u001b[0;32m   1208\u001b[0m             \u001b[38;5;124mf\u001b[39m\u001b[38;5;124m\"\u001b[39m\u001b[38;5;124mThe \u001b[39m\u001b[38;5;132;01m{\u001b[39;00mvar\u001b[38;5;132;01m}\u001b[39;00m\u001b[38;5;124m variable is \u001b[39m\u001b[38;5;132;01m{\u001b[39;00mvar_type\u001b[38;5;132;01m}\u001b[39;00m\u001b[38;5;124m, but one of \u001b[39m\u001b[38;5;124m\"\u001b[39m\n\u001b[0;32m   1209\u001b[0m             \u001b[38;5;124mf\u001b[39m\u001b[38;5;124m\"\u001b[39m\u001b[38;5;132;01m{\u001b[39;00mallowed_types\u001b[38;5;132;01m}\u001b[39;00m\u001b[38;5;124m is required\u001b[39m\u001b[38;5;124m\"\u001b[39m\n\u001b[0;32m   1210\u001b[0m         )\n\u001b[1;32m-> 1211\u001b[0m         \u001b[38;5;28;01mraise\u001b[39;00m \u001b[38;5;167;01mTypeError\u001b[39;00m(err)\n\u001b[0;32m   1213\u001b[0m \u001b[38;5;66;03m# -- Get axis objects for each row in plot_data for type conversions and scaling\u001b[39;00m\n\u001b[0;32m   1215\u001b[0m facet_dim \u001b[38;5;241m=\u001b[39m {\u001b[38;5;124m\"\u001b[39m\u001b[38;5;124mx\u001b[39m\u001b[38;5;124m\"\u001b[39m: \u001b[38;5;124m\"\u001b[39m\u001b[38;5;124mcol\u001b[39m\u001b[38;5;124m\"\u001b[39m, \u001b[38;5;124m\"\u001b[39m\u001b[38;5;124my\u001b[39m\u001b[38;5;124m\"\u001b[39m: \u001b[38;5;124m\"\u001b[39m\u001b[38;5;124mrow\u001b[39m\u001b[38;5;124m\"\u001b[39m}\n",
      "\u001b[1;31mTypeError\u001b[0m: The x variable is categorical, but one of ['numeric', 'datetime'] is required"
     ]
    },
    {
     "data": {
      "image/png": "[encoded data removed]",
      "text/plain": [
       "<Figure size 432x432 with 3 Axes>"
      ]
     },
     "metadata": {
      "needs_background": "light"
     },
     "output_type": "display_data"
    }
   ],
   "source": [
    "sns.jointplot(data=shark_cleanned_2, x= \"Months\", y= \"Time\", hue=\"Species\");"
   ]
  },
  {
   "cell_type": "code",
   "execution_count": 113,
   "id": "c90cf028",
   "metadata": {},
   "outputs": [
    {
     "data": {
      "text/plain": [
       "<AxesSubplot: xlabel='Months', ylabel='Count'>"
      ]
     },
     "execution_count": 113,
     "metadata": {},
     "output_type": "execute_result"
    },
    {
     "data": {
      "image/png": "[encoded data removed]",
      "text/plain": [
       "<Figure size 432x288 with 1 Axes>"
      ]
     },
     "metadata": {
      "needs_background": "light"
     },
     "output_type": "display_data"
    }
   ],
   "source": [
    "sns.histplot(data=shark_clean, x= \"Months\", hue=\"Species\", multiple=\"stack\")"
   ]
  },
  {
   "cell_type": "code",
   "execution_count": 115,
   "id": "cd8f67a4",
   "metadata": {},
   "outputs": [
    {
     "data": {
      "image/png": "[encoded data removed]",
      "text/plain": [
       "<Figure size 661.5x540 with 12 Axes>"
      ]
     },
     "metadata": {
      "needs_background": "light"
     },
     "output_type": "display_data"
    }
   ],
   "source": [
    "sns.pairplot(shark_cleanned_2, hue=\"Species\");"
   ]
  },
  {
   "cell_type": "code",
   "execution_count": null,
   "id": "b5d85610",
   "metadata": {},
   "outputs": [],
   "source": [
    "sns.jointplot(data=sharken, x= \"body_mass_g\", y= \"flipper_length_mm\", hue=\"species\")"
   ]
  },
  {
   "cell_type": "markdown",
   "id": "8d6a4b7b",
   "metadata": {},
   "source": [
    "### White shark"
   ]
  },
  {
   "cell_type": "code",
   "execution_count": 93,
   "id": "e104df99",
   "metadata": {},
   "outputs": [],
   "source": [
    "white = shark_cleanned_2[(shark_cleanned_2.Species==\"whiteshark\") & (shark_cleanned_2.Months)]\n"
   ]
  },
  {
   "cell_type": "code",
   "execution_count": 94,
   "id": "fcc77a5e",
   "metadata": {},
   "outputs": [
    {
     "data": {
      "image/png": "[encoded data removed]",
      "text/plain": [
       "<Figure size 432x288 with 1 Axes>"
      ]
     },
     "metadata": {
      "needs_background": "light"
     },
     "output_type": "display_data"
    }
   ],
   "source": [
    "sns.histplot(palette=\"mako\", x=white.Months, hue=white.Species);"
   ]
  },
  {
   "cell_type": "code",
   "execution_count": 95,
   "id": "212077fb",
   "metadata": {},
   "outputs": [
    {
     "data": {
      "text/plain": [
       "Jul    587\n",
       "Aug    548\n",
       "Sep    490\n",
       "Jan    462\n",
       "Jun    438\n",
       "Apr    408\n",
       "Oct    401\n",
       "Dec    389\n",
       "Nov    370\n",
       "May    358\n",
       "Name: Months, dtype: int64"
      ]
     },
     "execution_count": 95,
     "metadata": {},
     "output_type": "execute_result"
    }
   ],
   "source": [
    "shark_clean[\"Months\"].value_counts()"
   ]
  },
  {
   "cell_type": "code",
   "execution_count": null,
   "id": "cd41c650",
   "metadata": {},
   "outputs": [],
   "source": []
  },
  {
   "cell_type": "markdown",
   "id": "8c343b3f",
   "metadata": {},
   "source": [
    "### Tiger sharks"
   ]
  },
  {
   "cell_type": "code",
   "execution_count": 97,
   "id": "c43fca66",
   "metadata": {},
   "outputs": [
    {
     "data": {
      "text/html": [
       "<div>\n",
       "<style scoped>\n",
       "    .dataframe tbody tr th:only-of-type {\n",
       "        vertical-align: middle;\n",
       "    }\n",
       "\n",
       "    .dataframe tbody tr th {\n",
       "        vertical-align: top;\n",
       "    }\n",
       "\n",
       "    .dataframe thead th {\n",
       "        text-align: right;\n",
       "    }\n",
       "</style>\n",
       "<table border=\"1\" class=\"dataframe\">\n",
       "  <thead>\n",
       "    <tr style=\"text-align: right;\">\n",
       "      <th></th>\n",
       "      <th>Unnamed: 0</th>\n",
       "      <th>Year</th>\n",
       "      <th>Type</th>\n",
       "      <th>Country</th>\n",
       "      <th>Area</th>\n",
       "      <th>Location</th>\n",
       "      <th>Activity</th>\n",
       "      <th>Name</th>\n",
       "      <th>Sex_</th>\n",
       "      <th>Age</th>\n",
       "      <th>Injury</th>\n",
       "      <th>Fatal_(y/n)</th>\n",
       "      <th>Time</th>\n",
       "      <th>Months</th>\n",
       "      <th>Species</th>\n",
       "      <th>new</th>\n",
       "    </tr>\n",
       "  </thead>\n",
       "  <tbody>\n",
       "    <tr>\n",
       "      <th>1166</th>\n",
       "      <td>1166</td>\n",
       "      <td>2009.0</td>\n",
       "      <td>Unprovoked</td>\n",
       "      <td>SOUTH AFRICA</td>\n",
       "      <td>Eastern Cape Province</td>\n",
       "      <td>Second Beach, Port St. John's</td>\n",
       "      <td>Swimming</td>\n",
       "      <td>Sikhanyiso Bangilizwe</td>\n",
       "      <td>M</td>\n",
       "      <td>25</td>\n",
       "      <td>FATAL</td>\n",
       "      <td>Y</td>\n",
       "      <td>14h00</td>\n",
       "      <td>Jan</td>\n",
       "      <td>tigershark</td>\n",
       "      <td>1</td>\n",
       "    </tr>\n",
       "  </tbody>\n",
       "</table>\n",
       "</div>"
      ],
      "text/plain": [
       "      Unnamed: 0    Year        Type       Country                   Area  \\\n",
       "1166        1166  2009.0  Unprovoked  SOUTH AFRICA  Eastern Cape Province   \n",
       "\n",
       "                           Location  Activity                   Name Sex_ Age  \\\n",
       "1166  Second Beach, Port St. John's  Swimming  Sikhanyiso Bangilizwe    M  25   \n",
       "\n",
       "     Injury Fatal_(y/n)   Time Months     Species  new  \n",
       "1166  FATAL           Y  14h00    Jan  tigershark    1  "
      ]
     },
     "execution_count": 97,
     "metadata": {},
     "output_type": "execute_result"
    }
   ],
   "source": [
    "tiger = shark_cleanned_2[(shark_cleanned_2.Species==\"tigershark\") & (shark_cleanned_2.Months)]\n",
    "tiger.sample()"
   ]
  },
  {
   "cell_type": "code",
   "execution_count": 98,
   "id": "7794143c",
   "metadata": {},
   "outputs": [
    {
     "data": {
      "image/png": "[encoded data removed]",
      "text/plain": [
       "<Figure size 432x288 with 1 Axes>"
      ]
     },
     "metadata": {
      "needs_background": "light"
     },
     "output_type": "display_data"
    }
   ],
   "source": [
    "sns.histplot(palette=\"mako\", x = tiger.Months, hue = tiger.Species);"
   ]
  },
  {
   "cell_type": "code",
   "execution_count": null,
   "id": "9889f63f",
   "metadata": {},
   "outputs": [],
   "source": []
  },
  {
   "cell_type": "markdown",
   "id": "86607ee3",
   "metadata": {},
   "source": [
    "### Bull sharks"
   ]
  },
  {
   "cell_type": "code",
   "execution_count": 99,
   "id": "0f7825ca",
   "metadata": {},
   "outputs": [
    {
     "data": {
      "text/html": [
       "<div>\n",
       "<style scoped>\n",
       "    .dataframe tbody tr th:only-of-type {\n",
       "        vertical-align: middle;\n",
       "    }\n",
       "\n",
       "    .dataframe tbody tr th {\n",
       "        vertical-align: top;\n",
       "    }\n",
       "\n",
       "    .dataframe thead th {\n",
       "        text-align: right;\n",
       "    }\n",
       "</style>\n",
       "<table border=\"1\" class=\"dataframe\">\n",
       "  <thead>\n",
       "    <tr style=\"text-align: right;\">\n",
       "      <th></th>\n",
       "      <th>Unnamed: 0</th>\n",
       "      <th>Year</th>\n",
       "      <th>Type</th>\n",
       "      <th>Country</th>\n",
       "      <th>Area</th>\n",
       "      <th>Location</th>\n",
       "      <th>Activity</th>\n",
       "      <th>Name</th>\n",
       "      <th>Sex_</th>\n",
       "      <th>Age</th>\n",
       "      <th>Injury</th>\n",
       "      <th>Fatal_(y/n)</th>\n",
       "      <th>Time</th>\n",
       "      <th>Months</th>\n",
       "      <th>Species</th>\n",
       "      <th>new</th>\n",
       "    </tr>\n",
       "  </thead>\n",
       "  <tbody>\n",
       "    <tr>\n",
       "      <th>186</th>\n",
       "      <td>186</td>\n",
       "      <td>2017.0</td>\n",
       "      <td>Unprovoked</td>\n",
       "      <td>INDONESIA</td>\n",
       "      <td>Bali</td>\n",
       "      <td>Balian Beach</td>\n",
       "      <td>Surfing</td>\n",
       "      <td>Daniel Moore</td>\n",
       "      <td>M</td>\n",
       "      <td>48</td>\n",
       "      <td>Injury to right wrist &amp; forearm</td>\n",
       "      <td>N</td>\n",
       "      <td>07h30</td>\n",
       "      <td>Jan</td>\n",
       "      <td>bullshark</td>\n",
       "      <td>1</td>\n",
       "    </tr>\n",
       "  </tbody>\n",
       "</table>\n",
       "</div>"
      ],
      "text/plain": [
       "     Unnamed: 0    Year        Type    Country  Area      Location Activity  \\\n",
       "186         186  2017.0  Unprovoked  INDONESIA  Bali  Balian Beach  Surfing   \n",
       "\n",
       "             Name Sex_ Age                           Injury Fatal_(y/n)  \\\n",
       "186  Daniel Moore    M  48  Injury to right wrist & forearm           N   \n",
       "\n",
       "      Time Months    Species  new  \n",
       "186  07h30    Jan  bullshark    1  "
      ]
     },
     "execution_count": 99,
     "metadata": {},
     "output_type": "execute_result"
    }
   ],
   "source": [
    "bull = shark_cleanned_2[(shark_cleanned_2.Species==\"bullshark\") & (shark_cleanned_2.Months)]\n",
    "bull.sample()"
   ]
  },
  {
   "cell_type": "code",
   "execution_count": 100,
   "id": "98dff93b",
   "metadata": {},
   "outputs": [
    {
     "data": {
      "image/png": "[encoded data removed]",
      "text/plain": [
       "<Figure size 432x288 with 1 Axes>"
      ]
     },
     "metadata": {
      "needs_background": "light"
     },
     "output_type": "display_data"
    }
   ],
   "source": [
    "sns.histplot(palette=\"mako\", x = bull.Months, hue = bull.Species);"
   ]
  },
  {
   "cell_type": "code",
   "execution_count": null,
   "id": "122e33d6",
   "metadata": {},
   "outputs": [],
   "source": []
  },
  {
   "cell_type": "markdown",
   "id": "3d519f31",
   "metadata": {},
   "source": [
    "### Wobbegong shark"
   ]
  },
  {
   "cell_type": "code",
   "execution_count": 101,
   "id": "a9177343",
   "metadata": {},
   "outputs": [
    {
     "data": {
      "text/html": [
       "<div>\n",
       "<style scoped>\n",
       "    .dataframe tbody tr th:only-of-type {\n",
       "        vertical-align: middle;\n",
       "    }\n",
       "\n",
       "    .dataframe tbody tr th {\n",
       "        vertical-align: top;\n",
       "    }\n",
       "\n",
       "    .dataframe thead th {\n",
       "        text-align: right;\n",
       "    }\n",
       "</style>\n",
       "<table border=\"1\" class=\"dataframe\">\n",
       "  <thead>\n",
       "    <tr style=\"text-align: right;\">\n",
       "      <th></th>\n",
       "      <th>Unnamed: 0</th>\n",
       "      <th>Year</th>\n",
       "      <th>Type</th>\n",
       "      <th>Country</th>\n",
       "      <th>Area</th>\n",
       "      <th>Location</th>\n",
       "      <th>Activity</th>\n",
       "      <th>Name</th>\n",
       "      <th>Sex_</th>\n",
       "      <th>Age</th>\n",
       "      <th>Injury</th>\n",
       "      <th>Fatal_(y/n)</th>\n",
       "      <th>Time</th>\n",
       "      <th>Months</th>\n",
       "      <th>Species</th>\n",
       "      <th>new</th>\n",
       "    </tr>\n",
       "  </thead>\n",
       "  <tbody>\n",
       "    <tr>\n",
       "      <th>4387</th>\n",
       "      <td>4387</td>\n",
       "      <td>1953.0</td>\n",
       "      <td>Unprovoked</td>\n",
       "      <td>AUSTRALIA</td>\n",
       "      <td>New South Wales</td>\n",
       "      <td>Cave at Shell Harbour</td>\n",
       "      <td>Spearfishing</td>\n",
       "      <td>Rex Gallagher</td>\n",
       "      <td>M</td>\n",
       "      <td>25</td>\n",
       "      <td>Shark tore off face mask, diver’s face, nose &amp;...</td>\n",
       "      <td>N</td>\n",
       "      <td>18h00</td>\n",
       "      <td>Feb</td>\n",
       "      <td>wobbegongshark</td>\n",
       "      <td>2</td>\n",
       "    </tr>\n",
       "  </tbody>\n",
       "</table>\n",
       "</div>"
      ],
      "text/plain": [
       "      Unnamed: 0    Year        Type    Country             Area  \\\n",
       "4387        4387  1953.0  Unprovoked  AUSTRALIA  New South Wales   \n",
       "\n",
       "                   Location      Activity           Name Sex_ Age  \\\n",
       "4387  Cave at Shell Harbour  Spearfishing  Rex Gallagher    M  25   \n",
       "\n",
       "                                                 Injury Fatal_(y/n)   Time  \\\n",
       "4387  Shark tore off face mask, diver’s face, nose &...           N  18h00   \n",
       "\n",
       "     Months         Species  new  \n",
       "4387    Feb  wobbegongshark    2  "
      ]
     },
     "execution_count": 101,
     "metadata": {},
     "output_type": "execute_result"
    }
   ],
   "source": [
    "wobbe = shark_cleanned_2[(shark_cleanned_2.Species==\"wobbegongshark\") & (shark_cleanned_2.Months)]\n",
    "wobbe.sample()"
   ]
  },
  {
   "cell_type": "code",
   "execution_count": 102,
   "id": "f6c9c262",
   "metadata": {},
   "outputs": [
    {
     "data": {
      "image/png": "[encoded data removed]",
      "text/plain": [
       "<Figure size 432x288 with 1 Axes>"
      ]
     },
     "metadata": {
      "needs_background": "light"
     },
     "output_type": "display_data"
    }
   ],
   "source": [
    "sns.histplot(palette=\"mako\", x = wobbe.Months, hue = wobbe.Species);"
   ]
  },
  {
   "cell_type": "markdown",
   "id": "790a510c",
   "metadata": {},
   "source": [
    "### blacktip shark      \n"
   ]
  },
  {
   "cell_type": "code",
   "execution_count": 103,
   "id": "cc46e5ec",
   "metadata": {},
   "outputs": [
    {
     "data": {
      "text/html": [
       "<div>\n",
       "<style scoped>\n",
       "    .dataframe tbody tr th:only-of-type {\n",
       "        vertical-align: middle;\n",
       "    }\n",
       "\n",
       "    .dataframe tbody tr th {\n",
       "        vertical-align: top;\n",
       "    }\n",
       "\n",
       "    .dataframe thead th {\n",
       "        text-align: right;\n",
       "    }\n",
       "</style>\n",
       "<table border=\"1\" class=\"dataframe\">\n",
       "  <thead>\n",
       "    <tr style=\"text-align: right;\">\n",
       "      <th></th>\n",
       "      <th>Unnamed: 0</th>\n",
       "      <th>Year</th>\n",
       "      <th>Type</th>\n",
       "      <th>Country</th>\n",
       "      <th>Area</th>\n",
       "      <th>Location</th>\n",
       "      <th>Activity</th>\n",
       "      <th>Name</th>\n",
       "      <th>Sex_</th>\n",
       "      <th>Age</th>\n",
       "      <th>Injury</th>\n",
       "      <th>Fatal_(y/n)</th>\n",
       "      <th>Time</th>\n",
       "      <th>Months</th>\n",
       "      <th>Species</th>\n",
       "      <th>new</th>\n",
       "    </tr>\n",
       "  </thead>\n",
       "  <tbody>\n",
       "    <tr>\n",
       "      <th>354</th>\n",
       "      <td>354</td>\n",
       "      <td>2015.0</td>\n",
       "      <td>Unprovoked</td>\n",
       "      <td>USA</td>\n",
       "      <td>Florida</td>\n",
       "      <td>Vilano Beach, St.  Johns County</td>\n",
       "      <td>Surfing</td>\n",
       "      <td>David Morrison, Jr.</td>\n",
       "      <td>M</td>\n",
       "      <td>22</td>\n",
       "      <td>Laceration to heel, puncture wounds to dorsum ...</td>\n",
       "      <td>N</td>\n",
       "      <td>16h20</td>\n",
       "      <td>Sep</td>\n",
       "      <td>blacktipshark</td>\n",
       "      <td>9</td>\n",
       "    </tr>\n",
       "  </tbody>\n",
       "</table>\n",
       "</div>"
      ],
      "text/plain": [
       "     Unnamed: 0    Year        Type Country     Area  \\\n",
       "354         354  2015.0  Unprovoked     USA  Florida   \n",
       "\n",
       "                            Location Activity                 Name Sex_ Age  \\\n",
       "354  Vilano Beach, St.  Johns County  Surfing  David Morrison, Jr.    M  22   \n",
       "\n",
       "                                                Injury Fatal_(y/n)   Time  \\\n",
       "354  Laceration to heel, puncture wounds to dorsum ...           N  16h20   \n",
       "\n",
       "    Months        Species  new  \n",
       "354    Sep  blacktipshark    9  "
      ]
     },
     "execution_count": 103,
     "metadata": {},
     "output_type": "execute_result"
    }
   ],
   "source": [
    "black = shark_cleanned_2[(shark_cleanned_2.Species==\"blacktipshark\") & (shark_cleanned_2.Months)]\n",
    "black.sample()"
   ]
  },
  {
   "cell_type": "code",
   "execution_count": 104,
   "id": "f72936f2",
   "metadata": {},
   "outputs": [
    {
     "data": {
      "image/png": "[encoded data removed]",
      "text/plain": [
       "<Figure size 432x288 with 1 Axes>"
      ]
     },
     "metadata": {
      "needs_background": "light"
     },
     "output_type": "display_data"
    }
   ],
   "source": [
    "sns.histplot(palette=\"mako\", x = black.Months, hue = black.Species);"
   ]
  },
  {
   "cell_type": "markdown",
   "id": "50146d11",
   "metadata": {},
   "source": [
    "### Nurse shark         \n"
   ]
  },
  {
   "cell_type": "code",
   "execution_count": 107,
   "id": "76b79ba8",
   "metadata": {},
   "outputs": [
    {
     "data": {
      "text/html": [
       "<div>\n",
       "<style scoped>\n",
       "    .dataframe tbody tr th:only-of-type {\n",
       "        vertical-align: middle;\n",
       "    }\n",
       "\n",
       "    .dataframe tbody tr th {\n",
       "        vertical-align: top;\n",
       "    }\n",
       "\n",
       "    .dataframe thead th {\n",
       "        text-align: right;\n",
       "    }\n",
       "</style>\n",
       "<table border=\"1\" class=\"dataframe\">\n",
       "  <thead>\n",
       "    <tr style=\"text-align: right;\">\n",
       "      <th></th>\n",
       "      <th>Unnamed: 0</th>\n",
       "      <th>Year</th>\n",
       "      <th>Type</th>\n",
       "      <th>Country</th>\n",
       "      <th>Area</th>\n",
       "      <th>Location</th>\n",
       "      <th>Activity</th>\n",
       "      <th>Name</th>\n",
       "      <th>Sex_</th>\n",
       "      <th>Age</th>\n",
       "      <th>Injury</th>\n",
       "      <th>Fatal_(y/n)</th>\n",
       "      <th>Time</th>\n",
       "      <th>Months</th>\n",
       "      <th>Species</th>\n",
       "      <th>new</th>\n",
       "    </tr>\n",
       "  </thead>\n",
       "  <tbody>\n",
       "    <tr>\n",
       "      <th>1332</th>\n",
       "      <td>1332</td>\n",
       "      <td>2007.0</td>\n",
       "      <td>Unprovoked</td>\n",
       "      <td>USA</td>\n",
       "      <td>Florida</td>\n",
       "      <td>Lauderdale-by-the-Sea, Broward County</td>\n",
       "      <td>Snorkeling</td>\n",
       "      <td>Brandon Chapman</td>\n",
       "      <td>M</td>\n",
       "      <td>14</td>\n",
       "      <td>Minor injury, shark latched onto his abdomen</td>\n",
       "      <td>N</td>\n",
       "      <td>16h00</td>\n",
       "      <td>Sep</td>\n",
       "      <td>nurseshark</td>\n",
       "      <td>9</td>\n",
       "    </tr>\n",
       "  </tbody>\n",
       "</table>\n",
       "</div>"
      ],
      "text/plain": [
       "      Unnamed: 0    Year        Type Country     Area  \\\n",
       "1332        1332  2007.0  Unprovoked     USA  Florida   \n",
       "\n",
       "                                   Location    Activity             Name Sex_  \\\n",
       "1332  Lauderdale-by-the-Sea, Broward County  Snorkeling  Brandon Chapman    M   \n",
       "\n",
       "     Age                                        Injury Fatal_(y/n)   Time  \\\n",
       "1332  14  Minor injury, shark latched onto his abdomen           N  16h00   \n",
       "\n",
       "     Months     Species  new  \n",
       "1332    Sep  nurseshark    9  "
      ]
     },
     "execution_count": 107,
     "metadata": {},
     "output_type": "execute_result"
    }
   ],
   "source": [
    "nurse = shark_cleanned_2[(shark_cleanned_2.Species==\"nurseshark\") & (shark_cleanned_2.Months)]\n",
    "nurse.sample()"
   ]
  },
  {
   "cell_type": "code",
   "execution_count": 108,
   "id": "80392ac9",
   "metadata": {},
   "outputs": [
    {
     "data": {
      "image/png": "[encoded data removed]",
      "text/plain": [
       "<Figure size 432x288 with 1 Axes>"
      ]
     },
     "metadata": {
      "needs_background": "light"
     },
     "output_type": "display_data"
    }
   ],
   "source": [
    "sns.histplot(palette=\"mako\", x = nurse.Months, hue = nurse.Species);"
   ]
  },
  {
   "cell_type": "markdown",
   "id": "eb52367c",
   "metadata": {},
   "source": [
    "\n",
    "### Blue shark          \n"
   ]
  },
  {
   "cell_type": "code",
   "execution_count": 109,
   "id": "5171711e",
   "metadata": {},
   "outputs": [
    {
     "data": {
      "text/html": [
       "<div>\n",
       "<style scoped>\n",
       "    .dataframe tbody tr th:only-of-type {\n",
       "        vertical-align: middle;\n",
       "    }\n",
       "\n",
       "    .dataframe tbody tr th {\n",
       "        vertical-align: top;\n",
       "    }\n",
       "\n",
       "    .dataframe thead th {\n",
       "        text-align: right;\n",
       "    }\n",
       "</style>\n",
       "<table border=\"1\" class=\"dataframe\">\n",
       "  <thead>\n",
       "    <tr style=\"text-align: right;\">\n",
       "      <th></th>\n",
       "      <th>Unnamed: 0</th>\n",
       "      <th>Year</th>\n",
       "      <th>Type</th>\n",
       "      <th>Country</th>\n",
       "      <th>Area</th>\n",
       "      <th>Location</th>\n",
       "      <th>Activity</th>\n",
       "      <th>Name</th>\n",
       "      <th>Sex_</th>\n",
       "      <th>Age</th>\n",
       "      <th>Injury</th>\n",
       "      <th>Fatal_(y/n)</th>\n",
       "      <th>Time</th>\n",
       "      <th>Months</th>\n",
       "      <th>Species</th>\n",
       "      <th>new</th>\n",
       "    </tr>\n",
       "  </thead>\n",
       "  <tbody>\n",
       "    <tr>\n",
       "      <th>1151</th>\n",
       "      <td>1151</td>\n",
       "      <td>2009.0</td>\n",
       "      <td>Provoked</td>\n",
       "      <td>SOUTH AFRICA</td>\n",
       "      <td>Western Cape Province</td>\n",
       "      <td>Off Cape Point</td>\n",
       "      <td>Fishing</td>\n",
       "      <td>Gabriel Fernandez</td>\n",
       "      <td>M</td>\n",
       "      <td>40</td>\n",
       "      <td>Lacerations to arm and 2 fingers by hooked sha...</td>\n",
       "      <td>N</td>\n",
       "      <td>13h30</td>\n",
       "      <td>Mar</td>\n",
       "      <td>blueshark</td>\n",
       "      <td>3</td>\n",
       "    </tr>\n",
       "  </tbody>\n",
       "</table>\n",
       "</div>"
      ],
      "text/plain": [
       "      Unnamed: 0    Year      Type       Country                   Area  \\\n",
       "1151        1151  2009.0  Provoked  SOUTH AFRICA  Western Cape Province   \n",
       "\n",
       "            Location Activity               Name Sex_ Age  \\\n",
       "1151  Off Cape Point  Fishing  Gabriel Fernandez    M  40   \n",
       "\n",
       "                                                 Injury Fatal_(y/n)   Time  \\\n",
       "1151  Lacerations to arm and 2 fingers by hooked sha...           N  13h30   \n",
       "\n",
       "     Months    Species  new  \n",
       "1151    Mar  blueshark    3  "
      ]
     },
     "execution_count": 109,
     "metadata": {},
     "output_type": "execute_result"
    }
   ],
   "source": [
    "blue = shark_cleanned_2[(shark_cleanned_2.Species==\"blueshark\") & (shark_cleanned_2.Months)]\n",
    "blue.sample()"
   ]
  },
  {
   "cell_type": "code",
   "execution_count": 110,
   "id": "3ddf116a",
   "metadata": {},
   "outputs": [
    {
     "data": {
      "image/png": "[encoded data removed]",
      "text/plain": [
       "<Figure size 432x288 with 1 Axes>"
      ]
     },
     "metadata": {
      "needs_background": "light"
     },
     "output_type": "display_data"
    }
   ],
   "source": [
    "sns.histplot(palette=\"mako\", x = blue.Months, hue = blue.Species);"
   ]
  },
  {
   "cell_type": "markdown",
   "id": "fe049873",
   "metadata": {},
   "source": [
    "### Spinner shark"
   ]
  },
  {
   "cell_type": "code",
   "execution_count": 111,
   "id": "93e035b3",
   "metadata": {},
   "outputs": [
    {
     "data": {
      "text/html": [
       "<div>\n",
       "<style scoped>\n",
       "    .dataframe tbody tr th:only-of-type {\n",
       "        vertical-align: middle;\n",
       "    }\n",
       "\n",
       "    .dataframe tbody tr th {\n",
       "        vertical-align: top;\n",
       "    }\n",
       "\n",
       "    .dataframe thead th {\n",
       "        text-align: right;\n",
       "    }\n",
       "</style>\n",
       "<table border=\"1\" class=\"dataframe\">\n",
       "  <thead>\n",
       "    <tr style=\"text-align: right;\">\n",
       "      <th></th>\n",
       "      <th>Unnamed: 0</th>\n",
       "      <th>Year</th>\n",
       "      <th>Type</th>\n",
       "      <th>Country</th>\n",
       "      <th>Area</th>\n",
       "      <th>Location</th>\n",
       "      <th>Activity</th>\n",
       "      <th>Name</th>\n",
       "      <th>Sex_</th>\n",
       "      <th>Age</th>\n",
       "      <th>Injury</th>\n",
       "      <th>Fatal_(y/n)</th>\n",
       "      <th>Time</th>\n",
       "      <th>Months</th>\n",
       "      <th>Species</th>\n",
       "      <th>new</th>\n",
       "    </tr>\n",
       "  </thead>\n",
       "  <tbody>\n",
       "    <tr>\n",
       "      <th>2199</th>\n",
       "      <td>2199</td>\n",
       "      <td>1998.0</td>\n",
       "      <td>Unprovoked</td>\n",
       "      <td>USA</td>\n",
       "      <td>Florida</td>\n",
       "      <td>Loggerhead Park, Juno Beach, Palm Beach County</td>\n",
       "      <td>Swimming or paddle boarding</td>\n",
       "      <td>Rick Welch</td>\n",
       "      <td>M</td>\n",
       "      <td>32</td>\n",
       "      <td>6 puncture wounds to right calf</td>\n",
       "      <td>N</td>\n",
       "      <td>Morning</td>\n",
       "      <td>Mar</td>\n",
       "      <td>spinnershark</td>\n",
       "      <td>3</td>\n",
       "    </tr>\n",
       "  </tbody>\n",
       "</table>\n",
       "</div>"
      ],
      "text/plain": [
       "      Unnamed: 0    Year        Type Country     Area  \\\n",
       "2199        2199  1998.0  Unprovoked     USA  Florida   \n",
       "\n",
       "                                            Location  \\\n",
       "2199  Loggerhead Park, Juno Beach, Palm Beach County   \n",
       "\n",
       "                         Activity        Name Sex_ Age  \\\n",
       "2199  Swimming or paddle boarding  Rick Welch    M  32   \n",
       "\n",
       "                               Injury Fatal_(y/n)     Time Months  \\\n",
       "2199  6 puncture wounds to right calf           N  Morning    Mar   \n",
       "\n",
       "           Species  new  \n",
       "2199  spinnershark    3  "
      ]
     },
     "execution_count": 111,
     "metadata": {},
     "output_type": "execute_result"
    }
   ],
   "source": [
    "spinner = shark_cleanned_2[(shark_cleanned_2.Species==\"spinnershark\") & (shark_cleanned_2.Months)]\n",
    "spinner.sample()"
   ]
  },
  {
   "cell_type": "code",
   "execution_count": 112,
   "id": "aba79415",
   "metadata": {},
   "outputs": [
    {
     "data": {
      "image/png": "[encoded data removed]",
      "text/plain": [
       "<Figure size 432x288 with 1 Axes>"
      ]
     },
     "metadata": {
      "needs_background": "light"
     },
     "output_type": "display_data"
    }
   ],
   "source": [
    "sns.histplot(palette=\"mako\", x = spinner.Months, hue = spinner.Species);"
   ]
  },
  {
   "cell_type": "markdown",
   "id": "138443ae",
   "metadata": {},
   "source": [
    "### Generales \n",
    "Comparacion entre especies"
   ]
  },
  {
   "cell_type": "code",
   "execution_count": null,
   "id": "9ed27a44",
   "metadata": {},
   "outputs": [],
   "source": [
    "# Emtpy plots\n",
    "fig, axs = plt.subplots(nrows=1, ncols=3, figsize=(20,15))\n",
    "\n",
    "# For each plot, plot it somwhere\n",
    "sns.histplot(data=penguins, x=\"flipper_length_mm\", hue=\"species\", ax=axs[0])\n",
    "sns.histplot(data=penguins, x=\"flipper_length_mm\", hue=\"species\", multiple=\"stack\", ax=axs[1])\n",
    "sns.histplot(palette=\"mako\", x=pens.flipper_length_mm, hue=pens.species, ax=axs[2])"
   ]
  }
 ],
 "metadata": {
  "kernelspec": {
   "display_name": "Python 3 (ipykernel)",
   "language": "python",
   "name": "python3"
  },
  "language_info": {
   "codemirror_mode": {
    "name": "ipython",
    "version": 3
   },
   "file_extension": ".py",
   "mimetype": "text/x-python",
   "name": "python",
   "nbconvert_exporter": "python",
   "pygments_lexer": "ipython3",
   "version": "3.10.4"
  }
 },
 "nbformat": 4,
 "nbformat_minor": 5
}
