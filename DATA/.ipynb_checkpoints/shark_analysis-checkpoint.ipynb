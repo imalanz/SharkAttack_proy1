{
 "cells": [
  {
   "cell_type": "markdown",
   "id": "ccfcef80",
   "metadata": {},
   "source": [
    "### 1. if the season of empareamiento has something to do with the same time of the shark attacks."
   ]
  },
  {
   "cell_type": "markdown",
   "id": "f8e3985d",
   "metadata": {},
   "source": [
    "### Is there some reason why the sharks go closer to the shores in some specific season or reason or ....."
   ]
  },
  {
   "cell_type": "markdown",
   "id": "980a9260",
   "metadata": {},
   "source": [
    "### Is there an specific time that sharks likes to go close to the shore?"
   ]
  },
  {
   "cell_type": "markdown",
   "id": "eb32bcff",
   "metadata": {},
   "source": [
    "### where does the most fatal accidents occure"
   ]
  },
  {
   "cell_type": "markdown",
   "id": "a357cd93",
   "metadata": {},
   "source": [
    "# 1. Hypotesis ganadora: \n",
    "## Does sharks attack more because they are horny? \n",
    "### Que necesito de informacion para esta hypotesis?????"
   ]
  },
  {
   "cell_type": "markdown",
   "id": "48e75239",
   "metadata": {},
   "source": [
    "#### datos de la tabla para  limpiar    \n",
    "    1. Necesito los tiempos, las fechas en que ocurrio el ataque \n",
    "    2. La especie de sharks.\n",
    "    3. el estado del ataque, si fue fatal o no (posiblemente mientras mas fuerte el ataque, mas caliente)"
   ]
  },
  {
   "cell_type": "markdown",
   "id": "da13bdba",
   "metadata": {},
   "source": [
    "#### Tipo de analisis\n",
    "    1. relacionar el tipo de especie con las fechas del ataque - a ver si hay una corelacion, similitudes de mismas especies con el tiempo del ataque\n",
    "    2.relacionar si coinciden tambien los ataques mas mortales con las fechas del ataque."
   ]
  },
  {
   "cell_type": "markdown",
   "id": "a250dedd",
   "metadata": {},
   "source": [
    "#### Investigar por fuera:\n",
    "    1. cuales son las temporadas de mating de los difierentes tipos de sharks pueestos en el df\n",
    "    2. podemos investigar si hay alguna relacion del clima que prefieren los tiburones para el tiempo de apareamiento.\n",
    "    3. investigar junto con el DF el clima de los lugares al momento del ataque."
   ]
  }
 ],
 "metadata": {
  "kernelspec": {
   "display_name": "ironhack",
   "language": "python",
   "name": "ironhack"
  },
  "language_info": {
   "codemirror_mode": {
    "name": "ipython",
    "version": 3
   },
   "file_extension": ".py",
   "mimetype": "text/x-python",
   "name": "python",
   "nbconvert_exporter": "python",
   "pygments_lexer": "ipython3",
   "version": "3.10.8"
  }
 },
 "nbformat": 4,
 "nbformat_minor": 5
}
