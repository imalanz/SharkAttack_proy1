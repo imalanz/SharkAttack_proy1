{
 "cells": [
  {
   "cell_type": "markdown",
   "id": "ccfcef80",
   "metadata": {},
   "source": [
    "### 1. if the season of empareamiento has something to do with the same time of the shark attacks."
   ]
  },
  {
   "cell_type": "markdown",
   "id": "f8e3985d",
   "metadata": {},
   "source": [
    "### Is there some reason why the sharks go closer to the shores in some specific season or reason or ....."
   ]
  },
  {
   "cell_type": "markdown",
   "id": "777f35a1",
   "metadata": {},
   "source": []
  },
  {
   "cell_type": "markdown",
   "id": "9fc370ad",
   "metadata": {},
   "source": []
  },
  {
   "cell_type": "markdown",
   "id": "dcbe5279",
   "metadata": {},
   "source": []
  }
 ],
 "metadata": {
  "kernelspec": {
   "display_name": "ironhack",
   "language": "python",
   "name": "ironhack"
  },
  "language_info": {
   "codemirror_mode": {
    "name": "ipython",
    "version": 3
   },
   "file_extension": ".py",
   "mimetype": "text/x-python",
   "name": "python",
   "nbconvert_exporter": "python",
   "pygments_lexer": "ipython3",
   "version": "3.10.8"
  }
 },
 "nbformat": 4,
 "nbformat_minor": 5
}
